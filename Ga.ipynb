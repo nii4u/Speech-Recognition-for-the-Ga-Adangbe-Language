{
  "nbformat": 4,
  "nbformat_minor": 0,
  "metadata": {
    "accelerator": "GPU",
    "colab": {
      "name": "CTC.ipynb",
      "provenance": [],
      "collapsed_sections": []
    },
    "kernelspec": {
      "display_name": "Python 3",
      "language": "python",
      "name": "python3"
    },
    "language_info": {
      "codemirror_mode": {
        "name": "ipython",
        "version": 3
      },
      "file_extension": ".py",
      "mimetype": "text/x-python",
      "name": "python",
      "nbconvert_exporter": "python",
      "pygments_lexer": "ipython3",
      "version": "3.7.3"
    }
  },
  "cells": [
    {
      "cell_type": "code",
      "metadata": {
        "colab_type": "code",
        "id": "jzzuGAMna4NG",
        "colab": {}
      },
      "source": [
        "from pydrive.auth import GoogleAuth\n",
        "from pydrive.drive import GoogleDrive\n",
        "from google.colab import auth\n",
        "from oauth2client.client import GoogleCredentials\n",
        "auth.authenticate_user()\n",
        "gauth = GoogleAuth()\n",
        "gauth.credentials = GoogleCredentials.get_application_default()\n",
        "drive = GoogleDrive(gauth)"
      ],
      "execution_count": 1,
      "outputs": []
    },
    {
      "cell_type": "code",
      "metadata": {
        "id": "MZAzYt7jSCbQ",
        "colab_type": "code",
        "colab": {
          "base_uri": "https://localhost:8080/",
          "height": 546
        },
        "outputId": "548f4b1e-87f5-450d-e063-cda14e8f6b92"
      },
      "source": [
        "!pip install torchaudio\n",
        "!pip install PyDrive\n",
        "!pip install soundfile"
      ],
      "execution_count": 2,
      "outputs": [
        {
          "output_type": "stream",
          "text": [
            "Collecting torchaudio\n",
            "\u001b[?25l  Downloading https://files.pythonhosted.org/packages/e9/0a/40e53c686c2af65b2a4e818d11d9b76fa79178440caf99f3ceb2a32c3b04/torchaudio-0.5.1-cp36-cp36m-manylinux1_x86_64.whl (3.2MB)\n",
            "\r\u001b[K     |                                | 10kB 17.2MB/s eta 0:00:01\r\u001b[K     |▏                               | 20kB 5.1MB/s eta 0:00:01\r\u001b[K     |▎                               | 30kB 6.4MB/s eta 0:00:01\r\u001b[K     |▍                               | 40kB 6.4MB/s eta 0:00:01\r\u001b[K     |▌                               | 51kB 5.5MB/s eta 0:00:01\r\u001b[K     |▋                               | 61kB 5.9MB/s eta 0:00:01\r\u001b[K     |▊                               | 71kB 6.3MB/s eta 0:00:01\r\u001b[K     |▉                               | 81kB 6.8MB/s eta 0:00:01\r\u001b[K     |█                               | 92kB 6.5MB/s eta 0:00:01\r\u001b[K     |█                               | 102kB 6.6MB/s eta 0:00:01\r\u001b[K     |█▏                              | 112kB 6.6MB/s eta 0:00:01\r\u001b[K     |█▎                              | 122kB 6.6MB/s eta 0:00:01\r\u001b[K     |█▍                              | 133kB 6.6MB/s eta 0:00:01\r\u001b[K     |█▍                              | 143kB 6.6MB/s eta 0:00:01\r\u001b[K     |█▌                              | 153kB 6.6MB/s eta 0:00:01\r\u001b[K     |█▋                              | 163kB 6.6MB/s eta 0:00:01\r\u001b[K     |█▊                              | 174kB 6.6MB/s eta 0:00:01\r\u001b[K     |█▉                              | 184kB 6.6MB/s eta 0:00:01\r\u001b[K     |██                              | 194kB 6.6MB/s eta 0:00:01\r\u001b[K     |██                              | 204kB 6.6MB/s eta 0:00:01\r\u001b[K     |██▏                             | 215kB 6.6MB/s eta 0:00:01\r\u001b[K     |██▎                             | 225kB 6.6MB/s eta 0:00:01\r\u001b[K     |██▍                             | 235kB 6.6MB/s eta 0:00:01\r\u001b[K     |██▌                             | 245kB 6.6MB/s eta 0:00:01\r\u001b[K     |██▋                             | 256kB 6.6MB/s eta 0:00:01\r\u001b[K     |██▊                             | 266kB 6.6MB/s eta 0:00:01\r\u001b[K     |██▊                             | 276kB 6.6MB/s eta 0:00:01\r\u001b[K     |██▉                             | 286kB 6.6MB/s eta 0:00:01\r\u001b[K     |███                             | 296kB 6.6MB/s eta 0:00:01\r\u001b[K     |███                             | 307kB 6.6MB/s eta 0:00:01\r\u001b[K     |███▏                            | 317kB 6.6MB/s eta 0:00:01\r\u001b[K     |███▎                            | 327kB 6.6MB/s eta 0:00:01\r\u001b[K     |███▍                            | 337kB 6.6MB/s eta 0:00:01\r\u001b[K     |███▌                            | 348kB 6.6MB/s eta 0:00:01\r\u001b[K     |███▋                            | 358kB 6.6MB/s eta 0:00:01\r\u001b[K     |███▊                            | 368kB 6.6MB/s eta 0:00:01\r\u001b[K     |███▉                            | 378kB 6.6MB/s eta 0:00:01\r\u001b[K     |████                            | 389kB 6.6MB/s eta 0:00:01\r\u001b[K     |████                            | 399kB 6.6MB/s eta 0:00:01\r\u001b[K     |████▏                           | 409kB 6.6MB/s eta 0:00:01\r\u001b[K     |████▏                           | 419kB 6.6MB/s eta 0:00:01\r\u001b[K     |████▎                           | 430kB 6.6MB/s eta 0:00:01\r\u001b[K     |████▍                           | 440kB 6.6MB/s eta 0:00:01\r\u001b[K     |████▌                           | 450kB 6.6MB/s eta 0:00:01\r\u001b[K     |████▋                           | 460kB 6.6MB/s eta 0:00:01\r\u001b[K     |████▊                           | 471kB 6.6MB/s eta 0:00:01\r\u001b[K     |████▉                           | 481kB 6.6MB/s eta 0:00:01\r\u001b[K     |█████                           | 491kB 6.6MB/s eta 0:00:01\r\u001b[K     |█████                           | 501kB 6.6MB/s eta 0:00:01\r\u001b[K     |█████▏                          | 512kB 6.6MB/s eta 0:00:01\r\u001b[K     |█████▎                          | 522kB 6.6MB/s eta 0:00:01\r\u001b[K     |█████▍                          | 532kB 6.6MB/s eta 0:00:01\r\u001b[K     |█████▌                          | 542kB 6.6MB/s eta 0:00:01\r\u001b[K     |█████▌                          | 552kB 6.6MB/s eta 0:00:01\r\u001b[K     |█████▋                          | 563kB 6.6MB/s eta 0:00:01\r\u001b[K     |█████▊                          | 573kB 6.6MB/s eta 0:00:01\r\u001b[K     |█████▉                          | 583kB 6.6MB/s eta 0:00:01\r\u001b[K     |██████                          | 593kB 6.6MB/s eta 0:00:01\r\u001b[K     |██████                          | 604kB 6.6MB/s eta 0:00:01\r\u001b[K     |██████▏                         | 614kB 6.6MB/s eta 0:00:01\r\u001b[K     |██████▎                         | 624kB 6.6MB/s eta 0:00:01\r\u001b[K     |██████▍                         | 634kB 6.6MB/s eta 0:00:01\r\u001b[K     |██████▌                         | 645kB 6.6MB/s eta 0:00:01\r\u001b[K     |██████▋                         | 655kB 6.6MB/s eta 0:00:01\r\u001b[K     |██████▊                         | 665kB 6.6MB/s eta 0:00:01\r\u001b[K     |██████▉                         | 675kB 6.6MB/s eta 0:00:01\r\u001b[K     |██████▉                         | 686kB 6.6MB/s eta 0:00:01\r\u001b[K     |███████                         | 696kB 6.6MB/s eta 0:00:01\r\u001b[K     |███████                         | 706kB 6.6MB/s eta 0:00:01\r\u001b[K     |███████▏                        | 716kB 6.6MB/s eta 0:00:01\r\u001b[K     |███████▎                        | 727kB 6.6MB/s eta 0:00:01\r\u001b[K     |███████▍                        | 737kB 6.6MB/s eta 0:00:01\r\u001b[K     |███████▌                        | 747kB 6.6MB/s eta 0:00:01\r\u001b[K     |███████▋                        | 757kB 6.6MB/s eta 0:00:01\r\u001b[K     |███████▊                        | 768kB 6.6MB/s eta 0:00:01\r\u001b[K     |███████▉                        | 778kB 6.6MB/s eta 0:00:01\r\u001b[K     |████████                        | 788kB 6.6MB/s eta 0:00:01\r\u001b[K     |████████                        | 798kB 6.6MB/s eta 0:00:01\r\u001b[K     |████████▏                       | 808kB 6.6MB/s eta 0:00:01\r\u001b[K     |████████▎                       | 819kB 6.6MB/s eta 0:00:01\r\u001b[K     |████████▎                       | 829kB 6.6MB/s eta 0:00:01\r\u001b[K     |████████▍                       | 839kB 6.6MB/s eta 0:00:01\r\u001b[K     |████████▌                       | 849kB 6.6MB/s eta 0:00:01\r\u001b[K     |████████▋                       | 860kB 6.6MB/s eta 0:00:01\r\u001b[K     |████████▊                       | 870kB 6.6MB/s eta 0:00:01\r\u001b[K     |████████▉                       | 880kB 6.6MB/s eta 0:00:01\r\u001b[K     |█████████                       | 890kB 6.6MB/s eta 0:00:01\r\u001b[K     |█████████                       | 901kB 6.6MB/s eta 0:00:01\r\u001b[K     |█████████▏                      | 911kB 6.6MB/s eta 0:00:01\r\u001b[K     |█████████▎                      | 921kB 6.6MB/s eta 0:00:01\r\u001b[K     |█████████▍                      | 931kB 6.6MB/s eta 0:00:01\r\u001b[K     |█████████▌                      | 942kB 6.6MB/s eta 0:00:01\r\u001b[K     |█████████▋                      | 952kB 6.6MB/s eta 0:00:01\r\u001b[K     |█████████▋                      | 962kB 6.6MB/s eta 0:00:01\r\u001b[K     |█████████▊                      | 972kB 6.6MB/s eta 0:00:01\r\u001b[K     |█████████▉                      | 983kB 6.6MB/s eta 0:00:01\r\u001b[K     |██████████                      | 993kB 6.6MB/s eta 0:00:01\r\u001b[K     |██████████                      | 1.0MB 6.6MB/s eta 0:00:01\r\u001b[K     |██████████▏                     | 1.0MB 6.6MB/s eta 0:00:01\r\u001b[K     |██████████▎                     | 1.0MB 6.6MB/s eta 0:00:01\r\u001b[K     |██████████▍                     | 1.0MB 6.6MB/s eta 0:00:01\r\u001b[K     |██████████▌                     | 1.0MB 6.6MB/s eta 0:00:01\r\u001b[K     |██████████▋                     | 1.1MB 6.6MB/s eta 0:00:01\r\u001b[K     |██████████▊                     | 1.1MB 6.6MB/s eta 0:00:01\r\u001b[K     |██████████▉                     | 1.1MB 6.6MB/s eta 0:00:01\r\u001b[K     |███████████                     | 1.1MB 6.6MB/s eta 0:00:01\r\u001b[K     |███████████                     | 1.1MB 6.6MB/s eta 0:00:01\r\u001b[K     |███████████                     | 1.1MB 6.6MB/s eta 0:00:01\r\u001b[K     |███████████▏                    | 1.1MB 6.6MB/s eta 0:00:01\r\u001b[K     |███████████▎                    | 1.1MB 6.6MB/s eta 0:00:01\r\u001b[K     |███████████▍                    | 1.1MB 6.6MB/s eta 0:00:01\r\u001b[K     |███████████▌                    | 1.1MB 6.6MB/s eta 0:00:01\r\u001b[K     |███████████▋                    | 1.2MB 6.6MB/s eta 0:00:01\r\u001b[K     |███████████▊                    | 1.2MB 6.6MB/s eta 0:00:01\r\u001b[K     |███████████▉                    | 1.2MB 6.6MB/s eta 0:00:01\r\u001b[K     |████████████                    | 1.2MB 6.6MB/s eta 0:00:01\r\u001b[K     |████████████                    | 1.2MB 6.6MB/s eta 0:00:01\r\u001b[K     |████████████▏                   | 1.2MB 6.6MB/s eta 0:00:01\r\u001b[K     |████████████▎                   | 1.2MB 6.6MB/s eta 0:00:01\r\u001b[K     |████████████▍                   | 1.2MB 6.6MB/s eta 0:00:01\r\u001b[K     |████████████▍                   | 1.2MB 6.6MB/s eta 0:00:01\r\u001b[K     |████████████▌                   | 1.2MB 6.6MB/s eta 0:00:01\r\u001b[K     |████████████▋                   | 1.3MB 6.6MB/s eta 0:00:01\r\u001b[K     |████████████▊                   | 1.3MB 6.6MB/s eta 0:00:01\r\u001b[K     |████████████▉                   | 1.3MB 6.6MB/s eta 0:00:01\r\u001b[K     |█████████████                   | 1.3MB 6.6MB/s eta 0:00:01\r\u001b[K     |█████████████                   | 1.3MB 6.6MB/s eta 0:00:01\r\u001b[K     |█████████████▏                  | 1.3MB 6.6MB/s eta 0:00:01\r\u001b[K     |█████████████▎                  | 1.3MB 6.6MB/s eta 0:00:01\r\u001b[K     |█████████████▍                  | 1.3MB 6.6MB/s eta 0:00:01\r\u001b[K     |█████████████▌                  | 1.3MB 6.6MB/s eta 0:00:01\r\u001b[K     |█████████████▋                  | 1.4MB 6.6MB/s eta 0:00:01\r\u001b[K     |█████████████▊                  | 1.4MB 6.6MB/s eta 0:00:01\r\u001b[K     |█████████████▊                  | 1.4MB 6.6MB/s eta 0:00:01\r\u001b[K     |█████████████▉                  | 1.4MB 6.6MB/s eta 0:00:01\r\u001b[K     |██████████████                  | 1.4MB 6.6MB/s eta 0:00:01\r\u001b[K     |██████████████                  | 1.4MB 6.6MB/s eta 0:00:01\r\u001b[K     |██████████████▏                 | 1.4MB 6.6MB/s eta 0:00:01\r\u001b[K     |██████████████▎                 | 1.4MB 6.6MB/s eta 0:00:01\r\u001b[K     |██████████████▍                 | 1.4MB 6.6MB/s eta 0:00:01\r\u001b[K     |██████████████▌                 | 1.4MB 6.6MB/s eta 0:00:01\r\u001b[K     |██████████████▋                 | 1.5MB 6.6MB/s eta 0:00:01\r\u001b[K     |██████████████▊                 | 1.5MB 6.6MB/s eta 0:00:01\r\u001b[K     |██████████████▉                 | 1.5MB 6.6MB/s eta 0:00:01\r\u001b[K     |███████████████                 | 1.5MB 6.6MB/s eta 0:00:01\r\u001b[K     |███████████████                 | 1.5MB 6.6MB/s eta 0:00:01\r\u001b[K     |███████████████                 | 1.5MB 6.6MB/s eta 0:00:01\r\u001b[K     |███████████████▏                | 1.5MB 6.6MB/s eta 0:00:01\r\u001b[K     |███████████████▎                | 1.5MB 6.6MB/s eta 0:00:01\r\u001b[K     |███████████████▍                | 1.5MB 6.6MB/s eta 0:00:01\r\u001b[K     |███████████████▌                | 1.5MB 6.6MB/s eta 0:00:01\r\u001b[K     |███████████████▋                | 1.6MB 6.6MB/s eta 0:00:01\r\u001b[K     |███████████████▊                | 1.6MB 6.6MB/s eta 0:00:01\r\u001b[K     |███████████████▉                | 1.6MB 6.6MB/s eta 0:00:01\r\u001b[K     |████████████████                | 1.6MB 6.6MB/s eta 0:00:01\r\u001b[K     |████████████████                | 1.6MB 6.6MB/s eta 0:00:01\r\u001b[K     |████████████████▏               | 1.6MB 6.6MB/s eta 0:00:01\r\u001b[K     |████████████████▎               | 1.6MB 6.6MB/s eta 0:00:01\r\u001b[K     |████████████████▍               | 1.6MB 6.6MB/s eta 0:00:01\r\u001b[K     |████████████████▌               | 1.6MB 6.6MB/s eta 0:00:01\r\u001b[K     |████████████████▌               | 1.6MB 6.6MB/s eta 0:00:01\r\u001b[K     |████████████████▋               | 1.7MB 6.6MB/s eta 0:00:01\r\u001b[K     |████████████████▊               | 1.7MB 6.6MB/s eta 0:00:01\r\u001b[K     |████████████████▉               | 1.7MB 6.6MB/s eta 0:00:01\r\u001b[K     |█████████████████               | 1.7MB 6.6MB/s eta 0:00:01\r\u001b[K     |█████████████████               | 1.7MB 6.6MB/s eta 0:00:01\r\u001b[K     |█████████████████▏              | 1.7MB 6.6MB/s eta 0:00:01\r\u001b[K     |█████████████████▎              | 1.7MB 6.6MB/s eta 0:00:01\r\u001b[K     |█████████████████▍              | 1.7MB 6.6MB/s eta 0:00:01\r\u001b[K     |█████████████████▌              | 1.7MB 6.6MB/s eta 0:00:01\r\u001b[K     |█████████████████▋              | 1.8MB 6.6MB/s eta 0:00:01\r\u001b[K     |█████████████████▊              | 1.8MB 6.6MB/s eta 0:00:01\r\u001b[K     |█████████████████▉              | 1.8MB 6.6MB/s eta 0:00:01\r\u001b[K     |█████████████████▉              | 1.8MB 6.6MB/s eta 0:00:01\r\u001b[K     |██████████████████              | 1.8MB 6.6MB/s eta 0:00:01\r\u001b[K     |██████████████████              | 1.8MB 6.6MB/s eta 0:00:01\r\u001b[K     |██████████████████▏             | 1.8MB 6.6MB/s eta 0:00:01\r\u001b[K     |██████████████████▎             | 1.8MB 6.6MB/s eta 0:00:01\r\u001b[K     |██████████████████▍             | 1.8MB 6.6MB/s eta 0:00:01\r\u001b[K     |██████████████████▌             | 1.8MB 6.6MB/s eta 0:00:01\r\u001b[K     |██████████████████▋             | 1.9MB 6.6MB/s eta 0:00:01\r\u001b[K     |██████████████████▊             | 1.9MB 6.6MB/s eta 0:00:01\r\u001b[K     |██████████████████▉             | 1.9MB 6.6MB/s eta 0:00:01\r\u001b[K     |███████████████████             | 1.9MB 6.6MB/s eta 0:00:01\r\u001b[K     |███████████████████             | 1.9MB 6.6MB/s eta 0:00:01\r\u001b[K     |███████████████████▏            | 1.9MB 6.6MB/s eta 0:00:01\r\u001b[K     |███████████████████▏            | 1.9MB 6.6MB/s eta 0:00:01\r\u001b[K     |███████████████████▎            | 1.9MB 6.6MB/s eta 0:00:01\r\u001b[K     |███████████████████▍            | 1.9MB 6.6MB/s eta 0:00:01\r\u001b[K     |███████████████████▌            | 1.9MB 6.6MB/s eta 0:00:01\r\u001b[K     |███████████████████▋            | 2.0MB 6.6MB/s eta 0:00:01\r\u001b[K     |███████████████████▊            | 2.0MB 6.6MB/s eta 0:00:01\r\u001b[K     |███████████████████▉            | 2.0MB 6.6MB/s eta 0:00:01\r\u001b[K     |████████████████████            | 2.0MB 6.6MB/s eta 0:00:01\r\u001b[K     |████████████████████            | 2.0MB 6.6MB/s eta 0:00:01\r\u001b[K     |████████████████████▏           | 2.0MB 6.6MB/s eta 0:00:01\r\u001b[K     |████████████████████▎           | 2.0MB 6.6MB/s eta 0:00:01\r\u001b[K     |████████████████████▍           | 2.0MB 6.6MB/s eta 0:00:01\r\u001b[K     |████████████████████▌           | 2.0MB 6.6MB/s eta 0:00:01\r\u001b[K     |████████████████████▋           | 2.0MB 6.6MB/s eta 0:00:01\r\u001b[K     |████████████████████▋           | 2.1MB 6.6MB/s eta 0:00:01\r\u001b[K     |████████████████████▊           | 2.1MB 6.6MB/s eta 0:00:01\r\u001b[K     |████████████████████▉           | 2.1MB 6.6MB/s eta 0:00:01\r\u001b[K     |█████████████████████           | 2.1MB 6.6MB/s eta 0:00:01\r\u001b[K     |█████████████████████           | 2.1MB 6.6MB/s eta 0:00:01\r\u001b[K     |█████████████████████▏          | 2.1MB 6.6MB/s eta 0:00:01\r\u001b[K     |█████████████████████▎          | 2.1MB 6.6MB/s eta 0:00:01\r\u001b[K     |█████████████████████▍          | 2.1MB 6.6MB/s eta 0:00:01\r\u001b[K     |█████████████████████▌          | 2.1MB 6.6MB/s eta 0:00:01\r\u001b[K     |█████████████████████▋          | 2.2MB 6.6MB/s eta 0:00:01\r\u001b[K     |█████████████████████▊          | 2.2MB 6.6MB/s eta 0:00:01\r\u001b[K     |█████████████████████▉          | 2.2MB 6.6MB/s eta 0:00:01\r\u001b[K     |██████████████████████          | 2.2MB 6.6MB/s eta 0:00:01\r\u001b[K     |██████████████████████          | 2.2MB 6.6MB/s eta 0:00:01\r\u001b[K     |██████████████████████          | 2.2MB 6.6MB/s eta 0:00:01\r\u001b[K     |██████████████████████▏         | 2.2MB 6.6MB/s eta 0:00:01\r\u001b[K     |██████████████████████▎         | 2.2MB 6.6MB/s eta 0:00:01\r\u001b[K     |██████████████████████▍         | 2.2MB 6.6MB/s eta 0:00:01\r\u001b[K     |██████████████████████▌         | 2.2MB 6.6MB/s eta 0:00:01\r\u001b[K     |██████████████████████▋         | 2.3MB 6.6MB/s eta 0:00:01\r\u001b[K     |██████████████████████▊         | 2.3MB 6.6MB/s eta 0:00:01\r\u001b[K     |██████████████████████▉         | 2.3MB 6.6MB/s eta 0:00:01\r\u001b[K     |███████████████████████         | 2.3MB 6.6MB/s eta 0:00:01\r\u001b[K     |███████████████████████         | 2.3MB 6.6MB/s eta 0:00:01\r\u001b[K     |███████████████████████▏        | 2.3MB 6.6MB/s eta 0:00:01\r\u001b[K     |███████████████████████▎        | 2.3MB 6.6MB/s eta 0:00:01\r\u001b[K     |███████████████████████▎        | 2.3MB 6.6MB/s eta 0:00:01\r\u001b[K     |███████████████████████▍        | 2.3MB 6.6MB/s eta 0:00:01\r\u001b[K     |███████████████████████▌        | 2.3MB 6.6MB/s eta 0:00:01\r\u001b[K     |███████████████████████▋        | 2.4MB 6.6MB/s eta 0:00:01\r\u001b[K     |███████████████████████▊        | 2.4MB 6.6MB/s eta 0:00:01\r\u001b[K     |███████████████████████▉        | 2.4MB 6.6MB/s eta 0:00:01\r\u001b[K     |████████████████████████        | 2.4MB 6.6MB/s eta 0:00:01\r\u001b[K     |████████████████████████        | 2.4MB 6.6MB/s eta 0:00:01\r\u001b[K     |████████████████████████▏       | 2.4MB 6.6MB/s eta 0:00:01\r\u001b[K     |████████████████████████▎       | 2.4MB 6.6MB/s eta 0:00:01\r\u001b[K     |████████████████████████▍       | 2.4MB 6.6MB/s eta 0:00:01\r\u001b[K     |████████████████████████▌       | 2.4MB 6.6MB/s eta 0:00:01\r\u001b[K     |████████████████████████▋       | 2.4MB 6.6MB/s eta 0:00:01\r\u001b[K     |████████████████████████▊       | 2.5MB 6.6MB/s eta 0:00:01\r\u001b[K     |████████████████████████▊       | 2.5MB 6.6MB/s eta 0:00:01\r\u001b[K     |████████████████████████▉       | 2.5MB 6.6MB/s eta 0:00:01\r\u001b[K     |█████████████████████████       | 2.5MB 6.6MB/s eta 0:00:01\r\u001b[K     |█████████████████████████       | 2.5MB 6.6MB/s eta 0:00:01\r\u001b[K     |█████████████████████████▏      | 2.5MB 6.6MB/s eta 0:00:01\r\u001b[K     |█████████████████████████▎      | 2.5MB 6.6MB/s eta 0:00:01\r\u001b[K     |█████████████████████████▍      | 2.5MB 6.6MB/s eta 0:00:01\r\u001b[K     |█████████████████████████▌      | 2.5MB 6.6MB/s eta 0:00:01\r\u001b[K     |█████████████████████████▋      | 2.5MB 6.6MB/s eta 0:00:01\r\u001b[K     |█████████████████████████▊      | 2.6MB 6.6MB/s eta 0:00:01\r\u001b[K     |█████████████████████████▉      | 2.6MB 6.6MB/s eta 0:00:01\r\u001b[K     |██████████████████████████      | 2.6MB 6.6MB/s eta 0:00:01\r\u001b[K     |██████████████████████████      | 2.6MB 6.6MB/s eta 0:00:01\r\u001b[K     |██████████████████████████      | 2.6MB 6.6MB/s eta 0:00:01\r\u001b[K     |██████████████████████████▏     | 2.6MB 6.6MB/s eta 0:00:01\r\u001b[K     |██████████████████████████▎     | 2.6MB 6.6MB/s eta 0:00:01\r\u001b[K     |██████████████████████████▍     | 2.6MB 6.6MB/s eta 0:00:01\r\u001b[K     |██████████████████████████▌     | 2.6MB 6.6MB/s eta 0:00:01\r\u001b[K     |██████████████████████████▋     | 2.7MB 6.6MB/s eta 0:00:01\r\u001b[K     |██████████████████████████▊     | 2.7MB 6.6MB/s eta 0:00:01\r\u001b[K     |██████████████████████████▉     | 2.7MB 6.6MB/s eta 0:00:01\r\u001b[K     |███████████████████████████     | 2.7MB 6.6MB/s eta 0:00:01\r\u001b[K     |███████████████████████████     | 2.7MB 6.6MB/s eta 0:00:01\r\u001b[K     |███████████████████████████▏    | 2.7MB 6.6MB/s eta 0:00:01\r\u001b[K     |███████████████████████████▎    | 2.7MB 6.6MB/s eta 0:00:01\r\u001b[K     |███████████████████████████▍    | 2.7MB 6.6MB/s eta 0:00:01\r\u001b[K     |███████████████████████████▍    | 2.7MB 6.6MB/s eta 0:00:01\r\u001b[K     |███████████████████████████▌    | 2.7MB 6.6MB/s eta 0:00:01\r\u001b[K     |███████████████████████████▋    | 2.8MB 6.6MB/s eta 0:00:01\r\u001b[K     |███████████████████████████▊    | 2.8MB 6.6MB/s eta 0:00:01\r\u001b[K     |███████████████████████████▉    | 2.8MB 6.6MB/s eta 0:00:01\r\u001b[K     |████████████████████████████    | 2.8MB 6.6MB/s eta 0:00:01\r\u001b[K     |████████████████████████████    | 2.8MB 6.6MB/s eta 0:00:01\r\u001b[K     |████████████████████████████▏   | 2.8MB 6.6MB/s eta 0:00:01\r\u001b[K     |████████████████████████████▎   | 2.8MB 6.6MB/s eta 0:00:01\r\u001b[K     |████████████████████████████▍   | 2.8MB 6.6MB/s eta 0:00:01\r\u001b[K     |████████████████████████████▌   | 2.8MB 6.6MB/s eta 0:00:01\r\u001b[K     |████████████████████████████▋   | 2.8MB 6.6MB/s eta 0:00:01\r\u001b[K     |████████████████████████████▊   | 2.9MB 6.6MB/s eta 0:00:01\r\u001b[K     |████████████████████████████▉   | 2.9MB 6.6MB/s eta 0:00:01\r\u001b[K     |████████████████████████████▉   | 2.9MB 6.6MB/s eta 0:00:01\r\u001b[K     |█████████████████████████████   | 2.9MB 6.6MB/s eta 0:00:01\r\u001b[K     |█████████████████████████████   | 2.9MB 6.6MB/s eta 0:00:01\r\u001b[K     |█████████████████████████████▏  | 2.9MB 6.6MB/s eta 0:00:01\r\u001b[K     |█████████████████████████████▎  | 2.9MB 6.6MB/s eta 0:00:01\r\u001b[K     |█████████████████████████████▍  | 2.9MB 6.6MB/s eta 0:00:01\r\u001b[K     |█████████████████████████████▌  | 2.9MB 6.6MB/s eta 0:00:01\r\u001b[K     |█████████████████████████████▋  | 2.9MB 6.6MB/s eta 0:00:01\r\u001b[K     |█████████████████████████████▊  | 3.0MB 6.6MB/s eta 0:00:01\r\u001b[K     |█████████████████████████████▉  | 3.0MB 6.6MB/s eta 0:00:01\r\u001b[K     |██████████████████████████████  | 3.0MB 6.6MB/s eta 0:00:01\r\u001b[K     |██████████████████████████████  | 3.0MB 6.6MB/s eta 0:00:01\r\u001b[K     |██████████████████████████████▏ | 3.0MB 6.6MB/s eta 0:00:01\r\u001b[K     |██████████████████████████████▏ | 3.0MB 6.6MB/s eta 0:00:01\r\u001b[K     |██████████████████████████████▎ | 3.0MB 6.6MB/s eta 0:00:01\r\u001b[K     |██████████████████████████████▍ | 3.0MB 6.6MB/s eta 0:00:01\r\u001b[K     |██████████████████████████████▌ | 3.0MB 6.6MB/s eta 0:00:01\r\u001b[K     |██████████████████████████████▋ | 3.1MB 6.6MB/s eta 0:00:01\r\u001b[K     |██████████████████████████████▊ | 3.1MB 6.6MB/s eta 0:00:01\r\u001b[K     |██████████████████████████████▉ | 3.1MB 6.6MB/s eta 0:00:01\r\u001b[K     |███████████████████████████████ | 3.1MB 6.6MB/s eta 0:00:01\r\u001b[K     |███████████████████████████████ | 3.1MB 6.6MB/s eta 0:00:01\r\u001b[K     |███████████████████████████████▏| 3.1MB 6.6MB/s eta 0:00:01\r\u001b[K     |███████████████████████████████▎| 3.1MB 6.6MB/s eta 0:00:01\r\u001b[K     |███████████████████████████████▍| 3.1MB 6.6MB/s eta 0:00:01\r\u001b[K     |███████████████████████████████▌| 3.1MB 6.6MB/s eta 0:00:01\r\u001b[K     |███████████████████████████████▌| 3.1MB 6.6MB/s eta 0:00:01\r\u001b[K     |███████████████████████████████▋| 3.2MB 6.6MB/s eta 0:00:01\r\u001b[K     |███████████████████████████████▊| 3.2MB 6.6MB/s eta 0:00:01\r\u001b[K     |███████████████████████████████▉| 3.2MB 6.6MB/s eta 0:00:01\r\u001b[K     |████████████████████████████████| 3.2MB 6.6MB/s eta 0:00:01\r\u001b[K     |████████████████████████████████| 3.2MB 6.6MB/s \n",
            "\u001b[?25hRequirement already satisfied: torch==1.5.1 in /usr/local/lib/python3.6/dist-packages (from torchaudio) (1.5.1+cu101)\n",
            "Requirement already satisfied: numpy in /usr/local/lib/python3.6/dist-packages (from torch==1.5.1->torchaudio) (1.18.5)\n",
            "Requirement already satisfied: future in /usr/local/lib/python3.6/dist-packages (from torch==1.5.1->torchaudio) (0.16.0)\n",
            "Installing collected packages: torchaudio\n",
            "Successfully installed torchaudio-0.5.1\n",
            "Requirement already satisfied: PyDrive in /usr/local/lib/python3.6/dist-packages (1.3.1)\n",
            "Requirement already satisfied: oauth2client>=4.0.0 in /usr/local/lib/python3.6/dist-packages (from PyDrive) (4.1.3)\n",
            "Requirement already satisfied: google-api-python-client>=1.2 in /usr/local/lib/python3.6/dist-packages (from PyDrive) (1.7.12)\n",
            "Requirement already satisfied: PyYAML>=3.0 in /usr/local/lib/python3.6/dist-packages (from PyDrive) (3.13)\n",
            "Requirement already satisfied: httplib2>=0.9.1 in /usr/local/lib/python3.6/dist-packages (from oauth2client>=4.0.0->PyDrive) (0.17.4)\n",
            "Requirement already satisfied: rsa>=3.1.4 in /usr/local/lib/python3.6/dist-packages (from oauth2client>=4.0.0->PyDrive) (4.6)\n",
            "Requirement already satisfied: pyasn1>=0.1.7 in /usr/local/lib/python3.6/dist-packages (from oauth2client>=4.0.0->PyDrive) (0.4.8)\n",
            "Requirement already satisfied: six>=1.6.1 in /usr/local/lib/python3.6/dist-packages (from oauth2client>=4.0.0->PyDrive) (1.12.0)\n",
            "Requirement already satisfied: pyasn1-modules>=0.0.5 in /usr/local/lib/python3.6/dist-packages (from oauth2client>=4.0.0->PyDrive) (0.2.8)\n",
            "Requirement already satisfied: google-auth-httplib2>=0.0.3 in /usr/local/lib/python3.6/dist-packages (from google-api-python-client>=1.2->PyDrive) (0.0.3)\n",
            "Requirement already satisfied: uritemplate<4dev,>=3.0.0 in /usr/local/lib/python3.6/dist-packages (from google-api-python-client>=1.2->PyDrive) (3.0.1)\n",
            "Requirement already satisfied: google-auth>=1.4.1 in /usr/local/lib/python3.6/dist-packages (from google-api-python-client>=1.2->PyDrive) (1.17.2)\n",
            "Requirement already satisfied: cachetools<5.0,>=2.0.0 in /usr/local/lib/python3.6/dist-packages (from google-auth>=1.4.1->google-api-python-client>=1.2->PyDrive) (4.1.0)\n",
            "Requirement already satisfied: setuptools>=40.3.0 in /usr/local/lib/python3.6/dist-packages (from google-auth>=1.4.1->google-api-python-client>=1.2->PyDrive) (47.3.1)\n",
            "Collecting soundfile\n",
            "  Downloading https://files.pythonhosted.org/packages/eb/f2/3cbbbf3b96fb9fa91582c438b574cff3f45b29c772f94c400e2c99ef5db9/SoundFile-0.10.3.post1-py2.py3-none-any.whl\n",
            "Requirement already satisfied: cffi>=1.0 in /usr/local/lib/python3.6/dist-packages (from soundfile) (1.14.0)\n",
            "Requirement already satisfied: pycparser in /usr/local/lib/python3.6/dist-packages (from cffi>=1.0->soundfile) (2.20)\n",
            "Installing collected packages: soundfile\n",
            "Successfully installed soundfile-0.10.3.post1\n"
          ],
          "name": "stdout"
        }
      ]
    },
    {
      "cell_type": "code",
      "metadata": {
        "id": "UkyivVIKTikI",
        "colab_type": "code",
        "colab": {
          "base_uri": "https://localhost:8080/",
          "height": 126
        },
        "outputId": "6a484f40-ed74-4934-ac55-6a1bd90365a7"
      },
      "source": [
        "! git clone https://github.com/facebookresearch/CPC_audio.git"
      ],
      "execution_count": 3,
      "outputs": [
        {
          "output_type": "stream",
          "text": [
            "Cloning into 'CPC_audio'...\n",
            "remote: Enumerating objects: 84, done.\u001b[K\n",
            "remote: Counting objects: 100% (84/84), done.\u001b[K\n",
            "remote: Compressing objects: 100% (65/65), done.\u001b[K\n",
            "remote: Total 84 (delta 13), reused 75 (delta 6), pack-reused 0\u001b[K\n",
            "Unpacking objects: 100% (84/84), done.\n"
          ],
          "name": "stdout"
        }
      ]
    },
    {
      "cell_type": "code",
      "metadata": {
        "id": "8yKbqDQyTj_4",
        "colab_type": "code",
        "colab": {
          "base_uri": "https://localhost:8080/",
          "height": 728
        },
        "outputId": "9032f376-ab24-4fe4-8c0f-2307e375fcb0"
      },
      "source": [
        "%cd /content/CPC_audio\n",
        "!python setup.py develop"
      ],
      "execution_count": 4,
      "outputs": [
        {
          "output_type": "stream",
          "text": [
            "/content/CPC_audio\n",
            "Compiling cpc/eval/ABX/dtw.pyx because it changed.\n",
            "[1/1] Cythonizing cpc/eval/ABX/dtw.pyx\n",
            "running develop\n",
            "running egg_info\n",
            "creating CPC_audio.egg-info\n",
            "writing CPC_audio.egg-info/PKG-INFO\n",
            "writing dependency_links to CPC_audio.egg-info/dependency_links.txt\n",
            "writing top-level names to CPC_audio.egg-info/top_level.txt\n",
            "writing manifest file 'CPC_audio.egg-info/SOURCES.txt'\n",
            "writing manifest file 'CPC_audio.egg-info/SOURCES.txt'\n",
            "running build_ext\n",
            "building 'cpc.eval.ABX.dtw' extension\n",
            "creating build\n",
            "creating build/temp.linux-x86_64-3.6\n",
            "creating build/temp.linux-x86_64-3.6/cpc\n",
            "creating build/temp.linux-x86_64-3.6/cpc/eval\n",
            "creating build/temp.linux-x86_64-3.6/cpc/eval/ABX\n",
            "x86_64-linux-gnu-gcc -pthread -DNDEBUG -g -fwrapv -O2 -Wall -g -fstack-protector-strong -Wformat -Werror=format-security -Wdate-time -D_FORTIFY_SOURCE=2 -fPIC -I/usr/local/lib/python3.6/dist-packages/numpy/core/include -I/usr/include/python3.6m -c cpc/eval/ABX/dtw.c -o build/temp.linux-x86_64-3.6/cpc/eval/ABX/dtw.o\n",
            "In file included from \u001b[01m\u001b[K/usr/local/lib/python3.6/dist-packages/numpy/core/include/numpy/ndarraytypes.h:1832:0\u001b[m\u001b[K,\n",
            "                 from \u001b[01m\u001b[K/usr/local/lib/python3.6/dist-packages/numpy/core/include/numpy/ndarrayobject.h:12\u001b[m\u001b[K,\n",
            "                 from \u001b[01m\u001b[K/usr/local/lib/python3.6/dist-packages/numpy/core/include/numpy/arrayobject.h:4\u001b[m\u001b[K,\n",
            "                 from \u001b[01m\u001b[Kcpc/eval/ABX/dtw.c:625\u001b[m\u001b[K:\n",
            "\u001b[01m\u001b[K/usr/local/lib/python3.6/dist-packages/numpy/core/include/numpy/npy_1_7_deprecated_api.h:17:2:\u001b[m\u001b[K \u001b[01;35m\u001b[Kwarning: \u001b[m\u001b[K#warning \"Using deprecated NumPy API, disable it with \" \"#define NPY_NO_DEPRECATED_API NPY_1_7_API_VERSION\" [\u001b[01;35m\u001b[K-Wcpp\u001b[m\u001b[K]\n",
            " #\u001b[01;35m\u001b[Kwarning\u001b[m\u001b[K \"Using deprecated NumPy API, disable it with \" \\\n",
            "  \u001b[01;35m\u001b[K^~~~~~~\u001b[m\u001b[K\n",
            "creating build/lib.linux-x86_64-3.6\n",
            "creating build/lib.linux-x86_64-3.6/cpc\n",
            "creating build/lib.linux-x86_64-3.6/cpc/eval\n",
            "creating build/lib.linux-x86_64-3.6/cpc/eval/ABX\n",
            "x86_64-linux-gnu-gcc -pthread -shared -Wl,-O1 -Wl,-Bsymbolic-functions -Wl,-Bsymbolic-functions -Wl,-z,relro -Wl,-Bsymbolic-functions -Wl,-z,relro -g -fstack-protector-strong -Wformat -Werror=format-security -Wdate-time -D_FORTIFY_SOURCE=2 build/temp.linux-x86_64-3.6/cpc/eval/ABX/dtw.o -o build/lib.linux-x86_64-3.6/cpc/eval/ABX/dtw.cpython-36m-x86_64-linux-gnu.so\n",
            "copying build/lib.linux-x86_64-3.6/cpc/eval/ABX/dtw.cpython-36m-x86_64-linux-gnu.so -> cpc/eval/ABX\n",
            "Creating /usr/local/lib/python3.6/dist-packages/CPC-audio.egg-link (link to .)\n",
            "Adding CPC-audio 1.0 to easy-install.pth file\n",
            "\n",
            "Installed /content/CPC_audio\n",
            "Processing dependencies for CPC-audio==1.0\n",
            "Finished processing dependencies for CPC-audio==1.0\n"
          ],
          "name": "stdout"
        }
      ]
    },
    {
      "cell_type": "code",
      "metadata": {
        "id": "1L4r3-uxT2fw",
        "colab_type": "code",
        "colab": {
          "base_uri": "https://localhost:8080/",
          "height": 128
        },
        "outputId": "b614967e-b90e-4652-a60e-6a5a505ced97"
      },
      "source": [
        "from google.colab import drive\n",
        "drive.mount('/content/drive')"
      ],
      "execution_count": 5,
      "outputs": [
        {
          "output_type": "stream",
          "text": [
            "Go to this URL in a browser: https://accounts.google.com/o/oauth2/auth?client_id=947318989803-6bn6qk8qdgf4n4g3pfee6491hc0brc4i.apps.googleusercontent.com&redirect_uri=urn%3aietf%3awg%3aoauth%3a2.0%3aoob&response_type=code&scope=email%20https%3a%2f%2fwww.googleapis.com%2fauth%2fdocs.test%20https%3a%2f%2fwww.googleapis.com%2fauth%2fdrive%20https%3a%2f%2fwww.googleapis.com%2fauth%2fdrive.photos.readonly%20https%3a%2f%2fwww.googleapis.com%2fauth%2fpeopleapi.readonly\n",
            "\n",
            "Enter your authorization code:\n",
            "··········\n",
            "Mounted at /content/drive\n"
          ],
          "name": "stdout"
        }
      ]
    },
    {
      "cell_type": "code",
      "metadata": {
        "colab_type": "code",
        "id": "ppRP3ZqP8vZP",
        "colab": {}
      },
      "source": [
        "import torch\n",
        "import torchaudio"
      ],
      "execution_count": 6,
      "outputs": []
    },
    {
      "cell_type": "markdown",
      "metadata": {
        "colab_type": "text",
        "id": "YZ1Wywx3BNGS"
      },
      "source": [
        "# Part 1 : contrastive predictive coding\n",
        "\n",
        "Contrastive Predictive Coding (CPC) is a method of unsupervised training for speech models. The idea behind it is pretty simple:\n",
        "\n",
        "\n",
        "1.   The raw audio wave is passed through a convolutional network: the ```encoder```\n",
        "2.   Then, the encoder's output is given to a recurrent network the ```context```\n",
        "3. A third party network, the ```prediction_network``` will try to predict the  future embeddings of the encoder using the output of the context network.\n",
        "\n",
        "In order to avoid a collapse to trivial solutions, the prediction_network doesn't try to reconstruct the future features. Instead, using the context output $c_t$ at time $t$ it is trained to discriminate the real  encoder representatioin $g_{t+k}$ at time $t+k$ from several other features $(g_n)_n$ taken elsewhere in the batch. Thus the loss becomes:\n",
        "\n",
        "\\\\[ \\mathcal{L}_c = - \\frac{1}{K} \\sum_{k=1}^K \\text{Cross_entropy}(\\phi_k(c_t), g_{t+k}) \\\\]\n",
        "\n",
        "Or:\n",
        "\n",
        "\\\\[ \\mathcal{L}_c = - \\frac{1}{K} \\sum_{k=1}^K \\log \\frac{ \\exp\\left(\\phi_k(c_t)^\\top g_{t+k}\\right) }{  \\sum_{\\mathbf{n}\\in\\mathcal{N}_t} \\exp\\left(\\phi_k(c_t)^\\top g_n\\right)} \\\\]\n",
        "\n",
        "Where:\n",
        "\n",
        "\n",
        "*   $\\phi_k$ is the prediction network for the kth timestep\n",
        "*   $\\mathcal{N}_t$ is the set of all negative examples sampled for timestep $t$\n",
        "\n",
        "\n"
      ]
    },
    {
      "cell_type": "markdown",
      "metadata": {
        "colab_type": "text",
        "id": "frPFYXuPfNPs"
      },
      "source": [
        "## Exercice 1 : Building the model\n",
        "\n",
        "In this exercise, we will build and train a small CPC model using the repository CPC_audio.\n",
        "\n",
        "The code below loads a context and an encoder newtorks."
      ]
    },
    {
      "cell_type": "code",
      "metadata": {
        "colab_type": "code",
        "id": "8g-xPSdLRdui",
        "colab": {
          "base_uri": "https://localhost:8080/",
          "height": 35
        },
        "outputId": "8e54d906-ec80-401e-91d8-f8d9711aa2ae"
      },
      "source": [
        "%cd /content/CPC_audio\n",
        "from cpc.model import CPCEncoder, CPCAR\n",
        "device = torch.device(\"cuda:0\" if torch.cuda.is_available() else \"cpu\")\n",
        "\n",
        "DIM_ENCODER=256\n",
        "DIM_CONTEXT=256\n",
        "KEEP_HIDDEN_VECTOR=False\n",
        "N_LEVELS_CONTEXT=1\n",
        "CONTEXT_RNN=\"LSTM\"\n",
        "N_PREDICTIONS=12\n",
        "LEARNING_RATE=2e-4\n",
        "N_NEGATIVE_SAMPLE =128"
      ],
      "execution_count": 7,
      "outputs": [
        {
          "output_type": "stream",
          "text": [
            "/content/CPC_audio\n"
          ],
          "name": "stdout"
        }
      ]
    },
    {
      "cell_type": "code",
      "metadata": {
        "colab_type": "code",
        "id": "7Wx8WkrQk9bQ",
        "colab": {}
      },
      "source": [
        "encoder = CPCEncoder(DIM_ENCODER).to(device)\n",
        "context = CPCAR(DIM_ENCODER, DIM_CONTEXT, KEEP_HIDDEN_VECTOR, 1, mode=CONTEXT_RNN).to(device)"
      ],
      "execution_count": 8,
      "outputs": []
    },
    {
      "cell_type": "code",
      "metadata": {
        "colab_type": "code",
        "id": "f9BrweAIla4J",
        "colab": {}
      },
      "source": [
        "# Several functions that will be necessary to load the data later\n",
        "from cpc.dataset import findAllSeqs, AudioBatchData, parseSeqLabels\n",
        "SIZE_WINDOW = 20480\n",
        "BATCH_SIZE=8\n",
        "def load_dataset(path_dataset, file_extension='.wav', phone_label_dict=None):\n",
        "  data_list, speakers = findAllSeqs(path_dataset, extension=file_extension)\n",
        "  dataset = AudioBatchData(path_dataset, SIZE_WINDOW, data_list, phone_label_dict, len(speakers))\n",
        "  return dataset"
      ],
      "execution_count": 9,
      "outputs": []
    },
    {
      "cell_type": "markdown",
      "metadata": {
        "colab_type": "text",
        "id": "58pQ7ysXk9ZO"
      },
      "source": [
        "Now build a new class, ```CPCModel``` which will"
      ]
    },
    {
      "cell_type": "code",
      "metadata": {
        "colab_type": "code",
        "id": "rR5IYRTpRF8T",
        "colab": {}
      },
      "source": [
        "class CPCModel(torch.nn.Module):\n",
        "\n",
        "    def __init__(self,\n",
        "                 encoder,\n",
        "                 AR):\n",
        "\n",
        "        super(CPCModel, self).__init__()\n",
        "        self.gEncoder = encoder\n",
        "        self.gAR = AR\n",
        "\n",
        "    def forward(self, batch_data):\n",
        "        \n",
        "\n",
        "        encoder_output = self.gEncoder(batch_data)\n",
        "        #print(encoder_output.shape)\n",
        "        # The output of the encoder data does not have the good format \n",
        "        # indeed it is Batch_size x Hidden_size x temp size\n",
        "        # while the context requires Batch_size  x temp size x Hidden_size\n",
        "        # thus you need to permute\n",
        "        context_input = encoder_output.permute(0, 2, 1)\n",
        "\n",
        "        context_output = self.gAR(context_input)\n",
        "        #print(context_output.shape)\n",
        "        return context_output, encoder_output"
      ],
      "execution_count": 10,
      "outputs": []
    },
    {
      "cell_type": "markdown",
      "metadata": {
        "colab_type": "text",
        "id": "XUJgm6Rl4vS4"
      },
      "source": [
        "Let's test your code !\n"
      ]
    },
    {
      "cell_type": "code",
      "metadata": {
        "id": "bN47jKpQTwnf",
        "colab_type": "code",
        "colab": {
          "base_uri": "https://localhost:8080/",
          "height": 54
        },
        "outputId": "b81bb774-fde1-4be5-cd08-6ec99e3dc112"
      },
      "source": [
        "ls"
      ],
      "execution_count": 14,
      "outputs": [
        {
          "output_type": "stream",
          "text": [
            "\u001b[0m\u001b[01;34mbuild\u001b[0m/              CONTRIBUTING.md  \u001b[01;34mCPC_audio.egg-info\u001b[0m/  hubconf.py  README.md\n",
            "CODE_OF_CONDUCT.md  \u001b[01;34mcpc\u001b[0m/             environment.yml      LICENSE     setup.py\n"
          ],
          "name": "stdout"
        }
      ]
    },
    {
      "cell_type": "code",
      "metadata": {
        "colab_type": "code",
        "id": "D1x1n4mv4y03",
        "colab": {}
      },
      "source": [
        "audio = torchaudio.load(\"/content/drive/My Drive/Data-ASR/Prepared DATA/train/200626-225149_gaa_980_elicit/200626-225149_gaa_980_elicit_0.wav\")[0]\n",
        "audio = audio.view(1, 1, -1)\n",
        "cpc_model = CPCModel(encoder, context).to(device)\n",
        "context_output, encoder_output = cpc_model(audio.to(device))"
      ],
      "execution_count": 11,
      "outputs": []
    },
    {
      "cell_type": "markdown",
      "metadata": {
        "colab_type": "text",
        "id": "X27ce8Hy3C2p"
      },
      "source": [
        "## Exercise 2 : CPC loss\n",
        "\n",
        "We will define a class ```CPCCriterion``` which will hold the prediction networks $\\phi_k$ defined above and perform the classification loss $\\mathcal{L}_c$.\n",
        "\n",
        "a) In this exercise, the $\\phi_k$ will be a linear transform, ie:\n",
        "\n",
        "\\\\[ \\phi_k(c_t) = \\mathbf{A}_k c_t\\\\]\n",
        "\n",
        "Using the class [torch.nn.Linear](https://pytorch.org/docs/stable/nn.html#torch.nn.Linear), define the transformations $\\phi_k$ in the code below and complete the function ```get_prediction_k``` which computes $\\phi_k(c_t)$ for a given batch of vectors $c_t$.\n",
        "\n",
        "b) Using both ```get_prediction_k```  and ```sample_negatives``` defined below, write the forward function which will take as input two batches of features $c_t$ and $g_t$ and outputs the classification loss $\\mathcal{L}_c$ and the average acuracy for all predictions. "
      ]
    },
    {
      "cell_type": "code",
      "metadata": {
        "colab_type": "code",
        "id": "UlAs-z1fBc3W",
        "colab": {}
      },
      "source": [
        "# Exercice 2: write the CPC loss\n",
        "# a) Write the negative sampling (with some help)\n",
        "# ERRATUM: it's really hard, the sampling will be provided\n",
        "\n",
        "class CPCCriterion(torch.nn.Module):\n",
        "\n",
        "  def __init__(self,\n",
        "               K,\n",
        "               dim_context,\n",
        "               dim_encoder,\n",
        "               n_negative):\n",
        "    super(CPCCriterion, self).__init__()\n",
        "    self.K_ = K\n",
        "    self.dim_context = dim_context\n",
        "    self.dim_encoder = dim_encoder\n",
        "    self.n_negative = n_negative\n",
        "\n",
        "    self.predictors = torch.nn.ModuleList() \n",
        "    for k in range(self.K_):\n",
        "      # TO COMPLETE !\n",
        "      \n",
        "      # A affine transformation in pytorch is equivalent to a nn.Linear layer\n",
        "      # To get a linear transformation you must set bias=False\n",
        "      # input dimension of the layer = dimension of the encoder\n",
        "      # output dimension of the layer = dimension of the context\n",
        "      self.predictors.append(torch.nn.Linear(dim_context, dim_encoder, bias=False))\n",
        "\n",
        "  def get_prediction_k(self, context_data):\n",
        "\n",
        "    #TO COMPLETE !\n",
        "    output = [] \n",
        "    # For each time step k\n",
        "    for k in range(self.K_):\n",
        "\n",
        "      # We need to compute phi_k = A_k * c_t\n",
        "      phi_k = self.predictors[k](context_data)\n",
        "      output.append(phi_k)\n",
        "\n",
        "    return output\n",
        "\n",
        "\n",
        "  def sample_negatives(self, encoded_data):\n",
        "    r\"\"\"\n",
        "    Sample some negative examples in the given encoded data.\n",
        "    Input:\n",
        "    - encoded_data size: B x T x H\n",
        "    Returns\n",
        "    - outputs of size B x (n_negative + 1) x (T - K_) x H\n",
        "      outputs[:, 0, :, :] contains the positive example\n",
        "      outputs[:, 1:, :, :] contains negative example sampled in the batch\n",
        "    - labels, long tensor of size B x (T - K_)\n",
        "      Since the positive example is always at coordinates 0 for all sequences \n",
        "      in the batch and all timestep in the sequence, labels is just a tensor\n",
        "      full of zeros !\n",
        "    \"\"\"\n",
        "    batch_size, time_size, dim_encoded = encoded_data.size()\n",
        "    window_size = time_size - self.K_\n",
        "    outputs = []\n",
        "\n",
        "    neg_ext = encoded_data.contiguous().view(-1, dim_encoded)\n",
        "    n_elem_sampled = self.n_negative * window_size * batch_size\n",
        "    # Draw nNegativeExt * batchSize negative samples anywhere in the batch\n",
        "    batch_idx = torch.randint(low=0, high=batch_size,\n",
        "                              size=(n_elem_sampled, ),\n",
        "                              device=encoded_data.device)\n",
        "\n",
        "    seq_idx = torch.randint(low=1, high=time_size,\n",
        "                            size=(n_elem_sampled, ),\n",
        "                            device=encoded_data.device)\n",
        "\n",
        "    base_idx = torch.arange(0, window_size, device=encoded_data.device)\n",
        "    base_idx = base_idx.view(1, 1, window_size)\n",
        "    base_idx = base_idx.expand(1, self.n_negative, window_size)\n",
        "    base_idx = base_idx.expand(batch_size, self.n_negative, window_size)\n",
        "    seq_idx += base_idx.contiguous().view(-1)\n",
        "    seq_idx = torch.remainder(seq_idx, time_size)\n",
        "\n",
        "    ext_idx = seq_idx + batch_idx * time_size\n",
        "    neg_ext = neg_ext[ext_idx].view(batch_size, self.n_negative,\n",
        "                                    window_size, dim_encoded)\n",
        "    label_loss = torch.zeros((batch_size, window_size),\n",
        "                              dtype=torch.long,\n",
        "                              device=encoded_data.device)\n",
        "\n",
        "    for k in range(1, self.K_ + 1):\n",
        "\n",
        "      # Positive samples\n",
        "      if k < self.K_:\n",
        "          pos_seq = encoded_data[:, k:-(self.K_-k)]\n",
        "      else:\n",
        "          pos_seq = encoded_data[:, k:]\n",
        "\n",
        "      pos_seq = pos_seq.view(batch_size, 1, pos_seq.size(1), dim_encoded)\n",
        "      full_seq = torch.cat((pos_seq, neg_ext), dim=1)\n",
        "      outputs.append(full_seq)\n",
        "\n",
        "    return outputs, label_loss\n",
        "\n",
        "  def forward(self, encoded_data, context_data):\n",
        "\n",
        "    # TO COMPLETE:\n",
        "    # Perform the full cpc criterion\n",
        "    # Returns 2 values:\n",
        "    # - the average classification loss avg_loss\n",
        "    # - the average classification acuracy avg_acc\n",
        "\n",
        "    # Reminder : The permuation !\n",
        "    encoded_data = encoded_data.permute(0, 2, 1)\n",
        "\n",
        "    # First we need to sample the negative examples\n",
        "    negative_samples, labels = self.sample_negatives(encoded_data)\n",
        "\n",
        "    # Then we must compute phi_k\n",
        "    phi_k = self.get_prediction_k(context_data)\n",
        "\n",
        "    # Finally we must get the dot product between phi_k and negative_samples \n",
        "    # for each k\n",
        "\n",
        "    #The total loss is the average of all losses\n",
        "    avg_loss = 0\n",
        "\n",
        "    # Average acuracy\n",
        "    avg_acc = 0\n",
        "\n",
        "    for k in range(self.K_):\n",
        "      B, N_sampled, S_small, H = negative_samples[k].size() \n",
        "      B, S, H = phi_k[k].size()\n",
        "\n",
        "      # As told before S = S_small + K. For segments too far in the sequence\n",
        "      # there are no positive exmples anyway, so we must shorten phi_k\n",
        "      phi = phi_k[k][:, :S_small]\n",
        "\n",
        "      # Now the dot product\n",
        "      # You have several ways to do that, let's do the simple but non optimal \n",
        "      # one\n",
        "      # pytorch has a matrix product function https://pytorch.org/docs/stable/torch.html#torch.bmm\n",
        "      # But it takes only 3D tensors of the same batch size !\n",
        "      # To begin negative_samples is a 4D tensor ! \n",
        "      # We want to compute the dot product for each features, of each sequence\n",
        "      # of the batch. Thus we are trying to compute a dot product for all\n",
        "      # B* N_sampled * S_small 1D vector of negative_samples[k]\n",
        "      # Or, a 1D tensor of size H is also a matrix of size 1 x H\n",
        "      # Then, we must view it as a 3D tensor of size (B* N_sampled * S_small, 1, H)\n",
        "      negative_sample_k  =  negative_samples[k].view(B* N_sampled* S_small, 1, H)\n",
        "\n",
        "      # But now phi and negative_sample_k no longer have the same batch size !\n",
        "      # No worries, we can expand phi so that each sequence of the batch\n",
        "      # is repeated N_sampled times\n",
        "      phi = phi.view(B, 1,S_small, H).expand(B, N_sampled, S_small, H)\n",
        "\n",
        "      # And now we can view it as a 3D tensor \n",
        "      phi  = phi.contiguous().view(B * N_sampled * S_small, H, 1)\n",
        "\n",
        "      # We can finally get the dot product !\n",
        "      scores = torch.bmm(negative_sample_k, phi)\n",
        "\n",
        "      # Dot_product has a size (B * N_sampled * S_small , 1, 1)\n",
        "      # Let's reorder it a bit\n",
        "      scores = scores.reshape(B, N_sampled, S_small)\n",
        "\n",
        "      # For each elements of the sequence, and each elements sampled, it gives \n",
        "      # a floating score stating the likelihood of this element being the \n",
        "      # true one.\n",
        "      # Now the classification loss, we need to use the Cross Entropy loss\n",
        "      # https://pytorch.org/docs/master/generated/torch.nn.CrossEntropyLoss.html\n",
        "\n",
        "      # For each time-step of each sequence of the batch \n",
        "      # we have N_sampled possible predictions. \n",
        "      # Looking at the documentation of torch.nn.CrossEntropyLoss\n",
        "      # we can see that this loss expect a tensor of size M x C where \n",
        "      # - M is the number of elements with a classification score\n",
        "      # - C is the number of possible classes\n",
        "      # There are N_sampled candidates for each predictions so\n",
        "      # C = N_sampled \n",
        "      # Each timestep of each sequence of the batch has a prediction so\n",
        "      # M = B * S_small\n",
        "      # Thus we need an input vector of size B * S_small, N_sampled\n",
        "      # To begin, we need to permute the axis\n",
        "      scores = scores.permute(0, 2, 1) # Now it has size B , S_small, N_sampled\n",
        "\n",
        "      # Then we can cast it into a 2D tensor\n",
        "      scores = scores.reshape(B * S_small, N_sampled)\n",
        "\n",
        "      # Same thing for the labels \n",
        "      labels = labels.reshape(B * S_small)\n",
        "\n",
        "      # Finally we can get the classification loss\n",
        "      loss_criterion = torch.nn.CrossEntropyLoss()\n",
        "      loss_k = loss_criterion(scores, labels)\n",
        "      avg_loss+= loss_k\n",
        "\n",
        "      # And for the acuracy\n",
        "      # The prediction for each elements is the sample with the highest score\n",
        "      # Thus the tensors of all predictions is the tensors of the index of the \n",
        "      # maximal score for each time-step of each sequence of the batch\n",
        "      predictions = torch.argmax(scores, 1)\n",
        "      acc_k  = (labels == predictions).sum() / (B * S_small)\n",
        "      avg_acc += acc_k\n",
        "\n",
        "    # Normalization\n",
        "    avg_loss = avg_loss / self.K_\n",
        "    avg_acc = avg_acc / self.K_\n",
        "      \n",
        "    return avg_loss , avg_acc"
      ],
      "execution_count": 12,
      "outputs": []
    },
    {
      "cell_type": "markdown",
      "metadata": {
        "colab_type": "text",
        "id": "0cqGXhLf-_O1"
      },
      "source": [
        "Don't forget to test !"
      ]
    },
    {
      "cell_type": "code",
      "metadata": {
        "colab_type": "code",
        "id": "sYJSMh5I_QCf",
        "colab": {
          "base_uri": "https://localhost:8080/",
          "height": 55
        },
        "outputId": "1cb58269-71da-4255-a30f-62ca452d7bca"
      },
      "source": [
        "audio = torchaudio.load(\"/content/drive/My Drive/Data-ASR/Prepared DATA/train/200626-225149_gaa_980_elicit/200626-225149_gaa_980_elicit_0.wav\")[0]\n",
        "audio = audio.view(1, 1, -1)\n",
        "cpc_criterion = CPCCriterion(N_PREDICTIONS, DIM_CONTEXT, \n",
        "                             DIM_ENCODER, N_NEGATIVE_SAMPLE).to(device)\n",
        "context_output, encoder_output = cpc_model(audio.to(device))\n",
        "loss, avg = cpc_criterion(encoder_output,context_output)"
      ],
      "execution_count": 13,
      "outputs": [
        {
          "output_type": "stream",
          "text": [
            "/pytorch/aten/src/ATen/native/BinaryOps.cpp:81: UserWarning: Integer division of tensors using div or / is deprecated, and in a future release div will perform true division as in Python 3. Use true_divide or floor_divide (// in Python) instead.\n"
          ],
          "name": "stderr"
        }
      ]
    },
    {
      "cell_type": "markdown",
      "metadata": {
        "colab_type": "text",
        "id": "zLv7GoE0_4C3"
      },
      "source": [
        "## Exercise 3: Full training loop !\n",
        "\n",
        "You have the model, you have the criterion. All you need now are a data loader and an optimizer to run your training loop.\n",
        "\n",
        "We will use an Adam optimizer:"
      ]
    },
    {
      "cell_type": "code",
      "metadata": {
        "colab_type": "code",
        "id": "zcg29tqPAIR1",
        "colab": {}
      },
      "source": [
        "parameters = list(cpc_criterion.parameters()) + list(cpc_model.parameters())\n",
        "optimizer = torch.optim.Adam(parameters, lr=LEARNING_RATE)"
      ],
      "execution_count": 14,
      "outputs": []
    },
    {
      "cell_type": "markdown",
      "metadata": {
        "colab_type": "text",
        "id": "hETDwSfTAuF4"
      },
      "source": [
        "And as far as the data loader is concerned, we will rely on the data loader provided by the CPC_audio library."
      ]
    },
    {
      "cell_type": "code",
      "metadata": {
        "colab_type": "code",
        "id": "O6KES4RXA0tU",
        "colab": {
          "base_uri": "https://localhost:8080/",
          "height": 345
        },
        "outputId": "44253d6f-0c64-45e6-9f2b-1208ecc704c1"
      },
      "source": [
        "dataset_train = load_dataset('/content/drive/My Drive/Data-ASR/Prepared DATA/train')\n",
        "dataset_val = load_dataset('/content/drive/My Drive/Data-ASR/Prepared DATA/validation')\n",
        "data_loader_train = dataset_train.getDataLoader(BATCH_SIZE, \"speaker\", True)\n",
        "data_loader_val = dataset_train.getDataLoader(BATCH_SIZE, \"sequence\", False)"
      ],
      "execution_count": 15,
      "outputs": [
        {
          "output_type": "stream",
          "text": [
            "21it [00:07,  2.72it/s]\n"
          ],
          "name": "stderr"
        },
        {
          "output_type": "stream",
          "text": [
            "Saved cache file at /content/drive/My Drive/Data-ASR/Prepared DATA/train/_seqs_cache.txt\n",
            "Checking length...\n"
          ],
          "name": "stdout"
        },
        {
          "output_type": "stream",
          "text": [
            "849it [00:00, 214930.23it/s]\n"
          ],
          "name": "stderr"
        },
        {
          "output_type": "stream",
          "text": [
            "Done, elapsed: 28.703 seconds\n",
            "Scanned 849 sequences in 28.70 seconds\n",
            "1 chunks computed\n",
            "Joining pool\n"
          ],
          "name": "stdout"
        },
        {
          "output_type": "stream",
          "text": [
            "\r0it [00:00, ?it/s]"
          ],
          "name": "stderr"
        },
        {
          "output_type": "stream",
          "text": [
            "Joined process, elapsed=2.216 secs\n"
          ],
          "name": "stdout"
        },
        {
          "output_type": "stream",
          "text": [
            "8it [00:04,  2.00it/s]\n"
          ],
          "name": "stderr"
        },
        {
          "output_type": "stream",
          "text": [
            "Saved cache file at /content/drive/My Drive/Data-ASR/Prepared DATA/validation/_seqs_cache.txt\n",
            "Checking length...\n"
          ],
          "name": "stdout"
        },
        {
          "output_type": "stream",
          "text": [
            "378it [00:00, 94444.92it/s]\n"
          ],
          "name": "stderr"
        },
        {
          "output_type": "stream",
          "text": [
            "Done, elapsed: 12.689 seconds\n",
            "Scanned 378 sequences in 12.69 seconds\n",
            "1 chunks computed\n",
            "Joining pool\n",
            "Joined process, elapsed=1.036 secs\n"
          ],
          "name": "stdout"
        }
      ]
    },
    {
      "cell_type": "markdown",
      "metadata": {
        "colab_type": "text",
        "id": "uCoMCPL0A8VI"
      },
      "source": [
        "Now that everything is ready, complete and test the ```train_step``` function below which trains the model for one epoch."
      ]
    },
    {
      "cell_type": "code",
      "metadata": {
        "colab_type": "code",
        "id": "U-hIH3p8BsZr",
        "colab": {}
      },
      "source": [
        "def train_step(data_loader,\n",
        "               cpc_model,\n",
        "               cpc_criterion,\n",
        "               optimizer):\n",
        "  \n",
        "  avg_loss = 0\n",
        "  avg_acc = 0\n",
        "  n_items = 0\n",
        "\n",
        "  for step, data in enumerate(data_loader):\n",
        "    x,y = data\n",
        "    bs = len(x)\n",
        "    optimizer.zero_grad()\n",
        "    context_output, encoder_output = cpc_model(x.to(device))\n",
        "    loss , acc = cpc_criterion(encoder_output, context_output)\n",
        "    loss.backward()\n",
        "    n_items+=bs\n",
        "    avg_loss+=loss.item()*bs\n",
        "    avg_acc +=acc.item()*bs\n",
        "  \n",
        "  avg_loss/=n_items\n",
        "  avg_acc/=n_items\n",
        "  return avg_loss, avg_acc"
      ],
      "execution_count": 16,
      "outputs": []
    },
    {
      "cell_type": "markdown",
      "metadata": {
        "colab_type": "text",
        "id": "rIj06giJE_bZ"
      },
      "source": [
        "## Exercise 4 : Validation loop\n",
        "\n",
        "Now complete the validation loop."
      ]
    },
    {
      "cell_type": "code",
      "metadata": {
        "colab_type": "code",
        "id": "Q7Qwi6jDByyt",
        "colab": {}
      },
      "source": [
        "def validation_step(data_loader,\n",
        "                    cpc_model,\n",
        "                    cpc_criterion):\n",
        "  \n",
        "  avg_loss = 0\n",
        "  avg_acc = 0\n",
        "  n_items = 0\n",
        "\n",
        "  for step, data in enumerate(data_loader):\n",
        "    x,y = data\n",
        "    bs = len(x)\n",
        "    context_output, encoder_output = cpc_model(x.to(device))\n",
        "    loss , acc = cpc_criterion(encoder_output, context_output)\n",
        "    n_items+=bs\n",
        "    avg_loss+=loss.item()*bs\n",
        "    avg_acc+=acc.item()*bs\n",
        "  \n",
        "  avg_loss/=n_items\n",
        "  avg_acc/=n_items\n",
        "  return avg_loss, avg_acc"
      ],
      "execution_count": 17,
      "outputs": []
    },
    {
      "cell_type": "markdown",
      "metadata": {
        "colab_type": "text",
        "id": "OBVUPKKs2_0U"
      },
      "source": [
        "## Exercise 5: Run everything"
      ]
    },
    {
      "cell_type": "code",
      "metadata": {
        "colab_type": "code",
        "id": "ZbXsZIRiB1tm",
        "colab": {}
      },
      "source": [
        "def run(train_loader,\n",
        "        val_loader,\n",
        "        cpc_model,\n",
        "        cpc_criterion,\n",
        "        optimizer,\n",
        "        n_epochs):\n",
        "  \n",
        "  for epoch in range(n_epochs):\n",
        "\n",
        "    \n",
        "    print(f\"Running epoch {epoch+1} / {n_epochs}\")\n",
        "    avg_loss_train, avg_acc_train = train_step(train_loader, cpc_model, cpc_criterion, optimizer)\n",
        "    print(\"----------------------\")\n",
        "    print(f\"Training dataset\")\n",
        "    print(f\"- average loss : {avg_loss_train}\")\n",
        "    print(f\"- average acuracy : {avg_acc_train}\")\n",
        "    print(\"----------------------\")\n",
        "    with torch.no_grad():\n",
        "      cpc_model.eval()\n",
        "      cpc_criterion.eval()\n",
        "      avg_loss_val, avg_acc_val = validation_step(val_loader, cpc_model, cpc_criterion)\n",
        "      print(f\"Validation dataset\")\n",
        "      print(f\"- average loss : {avg_loss_val}\")\n",
        "      print(f\"- average acuracy : {avg_acc_val}\")\n",
        "      print(\"----------------------\")\n",
        "      print()\n",
        "      cpc_model.train()\n",
        "      cpc_criterion.train()"
      ],
      "execution_count": 18,
      "outputs": []
    },
    {
      "cell_type": "code",
      "metadata": {
        "colab_type": "code",
        "id": "5xx8vN2wpECC",
        "colab": {
          "base_uri": "https://localhost:8080/",
          "height": 417
        },
        "outputId": "4f4f7fab-ed82-4865-d44a-5f1073e3e92c"
      },
      "source": [
        "run(data_loader_train, data_loader_val, cpc_model,cpc_criterion,optimizer,2)"
      ],
      "execution_count": 19,
      "outputs": [
        {
          "output_type": "stream",
          "text": [
            "Running epoch 1 / 2\n",
            "----------------------\n",
            "Training dataset\n",
            "- average loss : 4.876497977247862\n",
            "- average acuracy : 0.0\n",
            "----------------------\n",
            "Validation dataset\n",
            "- average loss : 4.876419560560185\n",
            "- average acuracy : 0.0\n",
            "----------------------\n",
            "\n",
            "Running epoch 2 / 2\n",
            "----------------------\n",
            "Training dataset\n",
            "- average loss : 4.876546626521791\n",
            "- average acuracy : 0.0\n",
            "----------------------\n",
            "Validation dataset\n",
            "- average loss : 4.876449483948704\n",
            "- average acuracy : 0.0\n",
            "----------------------\n",
            "\n"
          ],
          "name": "stdout"
        }
      ]
    },
    {
      "cell_type": "markdown",
      "metadata": {
        "colab_type": "text",
        "id": "5hoT3_3W6HYY"
      },
      "source": [
        "Once everything is donw, clear the memory."
      ]
    },
    {
      "cell_type": "code",
      "metadata": {
        "colab_type": "code",
        "id": "fU5mDOY46KSG",
        "colab": {}
      },
      "source": [
        "del dataset_train\n",
        "del dataset_val\n",
        "del cpc_model\n",
        "del context\n",
        "del encoder"
      ],
      "execution_count": 20,
      "outputs": []
    },
    {
      "cell_type": "markdown",
      "metadata": {
        "colab_type": "text",
        "id": "srPM5r_LB9v-"
      },
      "source": [
        "# Part 2 : Fine tuning"
      ]
    },
    {
      "cell_type": "markdown",
      "metadata": {
        "colab_type": "text",
        "id": "0Nb_-0IQiJk9"
      },
      "source": [
        "## Exercice 1 : Phone separability with aligned phonemes.\n",
        "\n",
        "One option to evaluate the quality of the features trained with CPC can be to check if they can be used to recognize phonemes. \n",
        "To do so, we can fine-tune a pre-trained model using a limited amount of labelled speech data.\n",
        "We are going to start with a simple evaluation setting where we have the phone labels for each timestep corresponding to a CPC feature.\n",
        "\n",
        "We will work with a model already pre-trained on English data. As far as the fine-tuning dataset is concerned, we will use a 1h subset of [librispeech-100](http://www.openslr.org/12/). "
      ]
    },
    {
      "cell_type": "code",
      "metadata": {
        "colab_type": "code",
        "id": "N-scDMAasXxc",
        "colab": {
          "base_uri": "https://localhost:8080/",
          "height": 635
        },
        "outputId": "f982d7e6-9995-4098-c1ad-9f472c318f6b"
      },
      "source": [
        "!mkdir checkpoint_data\n",
        "!wget https://dl.fbaipublicfiles.com/librilight/CPC_checkpoints/not_hub/2levels_6k_top_ctc/checkpoint_30.pt -P checkpoint_data\n",
        "!wget https://dl.fbaipublicfiles.com/librilight/CPC_checkpoints/not_hub/2levels_6k_top_ctc/checkpoint_logs.json -P checkpoint_data\n",
        "!wget https://dl.fbaipublicfiles.com/librilight/CPC_checkpoints/not_hub/2levels_6k_top_ctc/checkpoint_args.json -P checkpoint_data\n",
        "!ls checkpoint_data"
      ],
      "execution_count": 21,
      "outputs": [
        {
          "output_type": "stream",
          "text": [
            "--2020-07-05 09:29:56--  https://dl.fbaipublicfiles.com/librilight/CPC_checkpoints/not_hub/2levels_6k_top_ctc/checkpoint_30.pt\n",
            "Resolving dl.fbaipublicfiles.com (dl.fbaipublicfiles.com)... 104.22.75.142, 172.67.9.4, 104.22.74.142, ...\n",
            "Connecting to dl.fbaipublicfiles.com (dl.fbaipublicfiles.com)|104.22.75.142|:443... connected.\n",
            "HTTP request sent, awaiting response... 200 OK\n",
            "Length: 113599715 (108M) [application/octet-stream]\n",
            "Saving to: ‘checkpoint_data/checkpoint_30.pt’\n",
            "\n",
            "checkpoint_30.pt    100%[===================>] 108.34M  5.04MB/s    in 24s     \n",
            "\n",
            "2020-07-05 09:30:21 (4.50 MB/s) - ‘checkpoint_data/checkpoint_30.pt’ saved [113599715/113599715]\n",
            "\n",
            "--2020-07-05 09:30:23--  https://dl.fbaipublicfiles.com/librilight/CPC_checkpoints/not_hub/2levels_6k_top_ctc/checkpoint_logs.json\n",
            "Resolving dl.fbaipublicfiles.com (dl.fbaipublicfiles.com)... 104.22.75.142, 172.67.9.4, 104.22.74.142, ...\n",
            "Connecting to dl.fbaipublicfiles.com (dl.fbaipublicfiles.com)|104.22.75.142|:443... connected.\n",
            "HTTP request sent, awaiting response... 200 OK\n",
            "Length: 20786 (20K) [text/plain]\n",
            "Saving to: ‘checkpoint_data/checkpoint_logs.json’\n",
            "\n",
            "checkpoint_logs.jso 100%[===================>]  20.30K   124KB/s    in 0.2s    \n",
            "\n",
            "2020-07-05 09:30:24 (124 KB/s) - ‘checkpoint_data/checkpoint_logs.json’ saved [20786/20786]\n",
            "\n",
            "--2020-07-05 09:30:26--  https://dl.fbaipublicfiles.com/librilight/CPC_checkpoints/not_hub/2levels_6k_top_ctc/checkpoint_args.json\n",
            "Resolving dl.fbaipublicfiles.com (dl.fbaipublicfiles.com)... 104.22.75.142, 104.22.74.142, 172.67.9.4, ...\n",
            "Connecting to dl.fbaipublicfiles.com (dl.fbaipublicfiles.com)|104.22.75.142|:443... connected.\n",
            "HTTP request sent, awaiting response... 200 OK\n",
            "Length: 2063 (2.0K) [text/plain]\n",
            "Saving to: ‘checkpoint_data/checkpoint_args.json’\n",
            "\n",
            "checkpoint_args.jso 100%[===================>]   2.01K  --.-KB/s    in 0s      \n",
            "\n",
            "2020-07-05 09:30:27 (27.9 MB/s) - ‘checkpoint_data/checkpoint_args.json’ saved [2063/2063]\n",
            "\n",
            "checkpoint_30.pt  checkpoint_args.json\tcheckpoint_logs.json\n"
          ],
          "name": "stdout"
        }
      ]
    },
    {
      "cell_type": "code",
      "metadata": {
        "id": "ccXFlpB_NJIH",
        "colab_type": "code",
        "colab": {
          "base_uri": "https://localhost:8080/",
          "height": 35
        },
        "outputId": "7f31b650-af85-4999-859e-31d1114dd65f"
      },
      "source": [
        "!ls"
      ],
      "execution_count": 1,
      "outputs": [
        {
          "output_type": "stream",
          "text": [
            "sample_data\n"
          ],
          "name": "stdout"
        }
      ]
    },
    {
      "cell_type": "code",
      "metadata": {
        "colab_type": "code",
        "id": "SSSaiYo82_oY",
        "colab": {
          "base_uri": "https://localhost:8080/",
          "height": 399
        },
        "outputId": "c24cc0ae-d158-47b4-e2fe-12490f4c086a"
      },
      "source": [
        "%cd /content/CPC_audio\n",
        "from cpc.dataset import parseSeqLabels\n",
        "from cpc.feature_loader import loadModel\n",
        "\n",
        "checkpoint_path = 'checkpoint_data/checkpoint_30.pt'\n",
        "cpc_model, HIDDEN_CONTEXT_MODEL, HIDDEN_ENCODER_MODEL = loadModel([checkpoint_path])\n",
        "cpc_model = cpc_model.cuda()\n",
        "label_dict, N_PHONES = parseSeqLabels('/content/drive/My Drive/Data-ASR/Prepared DATA/all_sessions1.txt')\n",
        "dataset_train = load_dataset('/content/drive/My Drive/Data-ASR/Prepared DATA/train', file_extension='.wav', phone_label_dict=label_dict)\n",
        "dataset_val = load_dataset('/content/drive/My Drive/Data-ASR/Prepared DATA/validation', file_extension='.wav', phone_label_dict=label_dict)\n",
        "data_loader_train = dataset_train.getDataLoader(BATCH_SIZE, \"speaker\", True)\n",
        "data_loader_val = dataset_val.getDataLoader(BATCH_SIZE, \"sequence\", False)"
      ],
      "execution_count": 22,
      "outputs": [
        {
          "output_type": "stream",
          "text": [
            "/content/CPC_audio\n",
            "Loading checkpoint checkpoint_data/checkpoint_30.pt\n",
            "Loading the state dict at checkpoint_data/checkpoint_30.pt\n"
          ],
          "name": "stdout"
        },
        {
          "output_type": "stream",
          "text": [
            "21it [00:00, 554.07it/s]"
          ],
          "name": "stderr"
        },
        {
          "output_type": "stream",
          "text": [
            "Saved cache file at /content/drive/My Drive/Data-ASR/Prepared DATA/train/_seqs_cache.txt\n"
          ],
          "name": "stdout"
        },
        {
          "output_type": "stream",
          "text": [
            "\n"
          ],
          "name": "stderr"
        },
        {
          "output_type": "stream",
          "text": [
            "Checking length...\n"
          ],
          "name": "stdout"
        },
        {
          "output_type": "stream",
          "text": [
            "849it [00:00, 131299.14it/s]\n"
          ],
          "name": "stderr"
        },
        {
          "output_type": "stream",
          "text": [
            "Done, elapsed: 0.954 seconds\n",
            "Scanned 849 sequences in 0.96 seconds\n",
            "1 chunks computed\n",
            "Joining pool\n"
          ],
          "name": "stdout"
        },
        {
          "output_type": "stream",
          "text": [
            "3it [00:00, 25.65it/s]"
          ],
          "name": "stderr"
        },
        {
          "output_type": "stream",
          "text": [
            "Joined process, elapsed=2.401 secs\n"
          ],
          "name": "stdout"
        },
        {
          "output_type": "stream",
          "text": [
            "8it [00:00, 27.38it/s]\n"
          ],
          "name": "stderr"
        },
        {
          "output_type": "stream",
          "text": [
            "Saved cache file at /content/drive/My Drive/Data-ASR/Prepared DATA/validation/_seqs_cache.txt\n",
            "Checking length...\n"
          ],
          "name": "stdout"
        },
        {
          "output_type": "stream",
          "text": [
            "378it [00:00, 587637.85it/s]\n"
          ],
          "name": "stderr"
        },
        {
          "output_type": "stream",
          "text": [
            "Done, elapsed: 0.676 seconds\n",
            "Scanned 378 sequences in 0.68 seconds\n",
            "1 chunks computed\n",
            "Joining pool\n",
            "Joined process, elapsed=1.102 secs\n"
          ],
          "name": "stdout"
        }
      ]
    },
    {
      "cell_type": "markdown",
      "metadata": {
        "colab_type": "text",
        "id": "xkKi-qfosng2"
      },
      "source": [
        "Then we will use a simple linear classifier to recognize the phonemes from the features produced by ```cpc_model```. \n",
        "\n",
        "### a) Build the phone classifier \n",
        "\n",
        "Design a class of linear classifiers, ```PhoneClassifier``` that will take as input a batch of sequences of CPC features and output a score vector for each phoneme"
      ]
    },
    {
      "cell_type": "code",
      "metadata": {
        "colab_type": "code",
        "id": "4RpAbz-0CXJJ",
        "colab": {}
      },
      "source": [
        "class PhoneClassifier(torch.nn.Module):\n",
        "\n",
        "  def __init__(self,\n",
        "               input_dim : int,\n",
        "               n_phones : int):\n",
        "    super(PhoneClassifier, self).__init__()\n",
        "    self.linear = torch.nn.Linear(input_dim, n_phones)\n",
        "    \n",
        "\n",
        "  def forward(self, x):\n",
        "    return self.linear(x)"
      ],
      "execution_count": 23,
      "outputs": []
    },
    {
      "cell_type": "markdown",
      "metadata": {
        "colab_type": "text",
        "id": "Zt5oa_nqtH-d"
      },
      "source": [
        "Our phone classifier will then be:"
      ]
    },
    {
      "cell_type": "code",
      "metadata": {
        "colab_type": "code",
        "id": "NRBf_83IuLv5",
        "colab": {}
      },
      "source": [
        "phone_classifier = PhoneClassifier(HIDDEN_CONTEXT_MODEL, N_PHONES).to(device)"
      ],
      "execution_count": 24,
      "outputs": []
    },
    {
      "cell_type": "markdown",
      "metadata": {
        "colab_type": "text",
        "id": "z_Vf5AbUhqm4"
      },
      "source": [
        "### b - What would be the correct loss criterion for this task ?\n",
        "\n"
      ]
    },
    {
      "cell_type": "code",
      "metadata": {
        "colab_type": "code",
        "id": "uhyPM-cgjrtw",
        "colab": {}
      },
      "source": [
        "loss_criterion = torch.nn.CrossEntropyLoss()"
      ],
      "execution_count": 25,
      "outputs": []
    },
    {
      "cell_type": "markdown",
      "metadata": {
        "colab_type": "text",
        "id": "Nv4cSxbaplrz"
      },
      "source": [
        "To perform the fine-tuning, we will also need an optimization function.\n",
        "\n",
        "We will use an [Adam optimizer ](https://pytorch.org/docs/stable/optim.html#torch.optim.Adam)."
      ]
    },
    {
      "cell_type": "code",
      "metadata": {
        "colab_type": "code",
        "id": "W5CgYyAlqKxu",
        "colab": {}
      },
      "source": [
        "parameters = list(phone_classifier.parameters()) + list(cpc_model.parameters())\n",
        "LEARNING_RATE = 2e-4\n",
        "optimizer = torch.optim.Adam(parameters, lr=LEARNING_RATE)"
      ],
      "execution_count": 26,
      "outputs": []
    },
    {
      "cell_type": "markdown",
      "metadata": {
        "colab_type": "text",
        "id": "qQB9HS9PvAXc"
      },
      "source": [
        "You might also want to perform this training while freezing the weights of the ```cpc_model```. Indeed, if the pre-training was good enough, then ```cpc_model``` phonemes representation should be linearly separable. In this case the optimizer should be defined like this:"
      ]
    },
    {
      "cell_type": "code",
      "metadata": {
        "colab_type": "code",
        "id": "nRy0gn6awGUQ",
        "colab": {}
      },
      "source": [
        "optimizer_frozen = torch.optim.Adam(list(phone_classifier.parameters()), lr=LEARNING_RATE)"
      ],
      "execution_count": 27,
      "outputs": []
    },
    {
      "cell_type": "markdown",
      "metadata": {
        "colab_type": "text",
        "id": "cO93ngIfj4JW"
      },
      "source": [
        "### c- Now let's build a training loop. \n",
        "Complete the function ```train_one_epoch``` below.\n",
        "\n"
      ]
    },
    {
      "cell_type": "code",
      "metadata": {
        "colab_type": "code",
        "id": "fabqj3wvLwgU",
        "colab": {}
      },
      "source": [
        "def train_one_epoch(cpc_model, \n",
        "                    phone_classifier, \n",
        "                    loss_criterion, \n",
        "                    data_loader, \n",
        "                    optimizer):\n",
        "\n",
        "  cpc_model.train()\n",
        "  loss_criterion.train()\n",
        "\n",
        "  avg_loss = 0\n",
        "  avg_accuracy = 0\n",
        "  n_items = 0\n",
        "  for step, full_data in enumerate(data_loader):\n",
        "    # Each batch is represented by a Tuple of vectors:\n",
        "    # sequence of size : N x 1 x T\n",
        "    # label of size : N x T\n",
        "    # \n",
        "    # With :\n",
        "    # - N number of sequence in the batch\n",
        "    # - T size of each sequence\n",
        "    sequence, label = full_data\n",
        "    \n",
        "    \n",
        "\n",
        "    bs = len(sequence)\n",
        "    seq_len = label.size(1)\n",
        "    optimizer.zero_grad()\n",
        "    context_out, enc_out, _ = cpc_model(sequence.to(device),label.to(device))\n",
        "\n",
        "    scores = phone_classifier(context_out)\n",
        "\n",
        "    scores = scores.permute(0,2,1)\n",
        "    loss = loss_criterion(scores,label.to(device))\n",
        "    loss.backward()\n",
        "    optimizer.step()\n",
        "    avg_loss+=loss.item()*bs\n",
        "    n_items+=bs\n",
        "    correct_labels = scores.argmax(1)\n",
        "    avg_accuracy += ((label==correct_labels.cpu()).float()).mean(1).sum().item()\n",
        "  avg_loss/=n_items\n",
        "  avg_accuracy/=n_items\n",
        "  return avg_loss, avg_accuracy\n",
        "    "
      ],
      "execution_count": 28,
      "outputs": []
    },
    {
      "cell_type": "markdown",
      "metadata": {
        "colab_type": "text",
        "id": "quYtjx_TxIPK"
      },
      "source": [
        "Don't forget to test it !"
      ]
    },
    {
      "cell_type": "code",
      "metadata": {
        "colab_type": "code",
        "id": "50MwxbKhxMKp",
        "colab": {}
      },
      "source": [
        "avg_loss, avg_accuracy = train_one_epoch(cpc_model, phone_classifier, loss_criterion, data_loader_train, optimizer_frozen)"
      ],
      "execution_count": 29,
      "outputs": []
    },
    {
      "cell_type": "code",
      "metadata": {
        "colab_type": "code",
        "id": "_o6yk8XKWnYe",
        "colab": {
          "base_uri": "https://localhost:8080/",
          "height": 35
        },
        "outputId": "b39ed341-dad7-4765-c427-46b53d51ebbe"
      },
      "source": [
        "avg_loss, avg_accuracy"
      ],
      "execution_count": 30,
      "outputs": [
        {
          "output_type": "execute_result",
          "data": {
            "text/plain": [
              "(3.8899461882455006, 0.04868861607142857)"
            ]
          },
          "metadata": {
            "tags": []
          },
          "execution_count": 30
        }
      ]
    },
    {
      "cell_type": "markdown",
      "metadata": {
        "colab_type": "text",
        "id": "EmUkuJ2bwu4Z"
      },
      "source": [
        "### d- Build the validation loop"
      ]
    },
    {
      "cell_type": "code",
      "metadata": {
        "colab_type": "code",
        "id": "kZJMxj6cwzd3",
        "colab": {}
      },
      "source": [
        "def validation_step(cpc_model, \n",
        "                    phone_classifier, \n",
        "                    loss_criterion, \n",
        "                    data_loader):\n",
        "  \n",
        "  cpc_model.eval()\n",
        "  phone_classifier.eval()\n",
        "\n",
        "  avg_loss = 0\n",
        "  avg_accuracy = 0\n",
        "  n_items = 0\n",
        "  with torch.no_grad():\n",
        "    for step, full_data in enumerate(data_loader):\n",
        "      # Each batch is represented by a Tuple of vectors:\n",
        "      # sequence of size : N x 1 x T\n",
        "      # label of size : N x T\n",
        "      # \n",
        "      # With :\n",
        "      # - N number of sequence in the batch\n",
        "      # - T size of each sequence\n",
        "      sequence, label = full_data\n",
        "      bs = len(sequence)\n",
        "      seq_len = label.size(1)\n",
        "      context_out, enc_out, _ = cpc_model(sequence.to(device),label.to(device))\n",
        "      scores = phone_classifier(context_out)\n",
        "      scores = scores.permute(0,2,1)\n",
        "      loss = loss_criterion(scores,label.to(device))\n",
        "      avg_loss+=loss.item()*bs\n",
        "      n_items+=bs\n",
        "      correct_labels = scores.argmax(1)\n",
        "      avg_accuracy += ((label==correct_labels.cpu()).float()).mean(1).sum().item()\n",
        "  avg_loss/=n_items\n",
        "  avg_accuracy/=n_items\n",
        "  return avg_loss, avg_accuracy"
      ],
      "execution_count": 31,
      "outputs": []
    },
    {
      "cell_type": "markdown",
      "metadata": {
        "colab_type": "text",
        "id": "vownVCt7xbVh"
      },
      "source": [
        "### e- Run everything\n",
        "\n",
        "Test this functiion with both ```optimizer``` and ```optimizer_frozen```."
      ]
    },
    {
      "cell_type": "code",
      "metadata": {
        "colab_type": "code",
        "id": "xvO_4nKUxfQx",
        "colab": {}
      },
      "source": [
        "def run(cpc_model, \n",
        "        phone_classifier, \n",
        "        loss_criterion, \n",
        "        data_loader_train, \n",
        "        data_loader_val, \n",
        "        optimizer,\n",
        "        n_epoch):\n",
        "    train_loss = []\n",
        "    validation_loss = []\n",
        "    for epoch in range(n_epoch):\n",
        "\n",
        "      print(f\"Running epoch {epoch + 1} / {n_epoch}\")\n",
        "      loss_train, acc_train = train_one_epoch(cpc_model, phone_classifier, loss_criterion, data_loader_train, optimizer)\n",
        "      train_loss.append(loss_train)\n",
        "      print(\"-------------------\")\n",
        "      print(f\"Training dataset :\")\n",
        "      print(f\"Average loss : {loss_train}. Average accuracy {acc_train}\")\n",
        "\n",
        "      print(\"-------------------\")\n",
        "      print(\"Validation dataset\")\n",
        "      loss_val, acc_val = validation_step(cpc_model, phone_classifier, loss_criterion, data_loader_val)\n",
        "      validation_loss.append(loss_val)\n",
        "      print(f\"Average loss : {loss_val}. Average accuracy {acc_val}\")\n",
        "      print(\"-------------------\")\n",
        "      print()\n",
        "    return train_loss, validation_loss"
      ],
      "execution_count": 33,
      "outputs": []
    },
    {
      "cell_type": "code",
      "metadata": {
        "colab_type": "code",
        "id": "ceCEO2h2bxAn",
        "colab": {
          "base_uri": "https://localhost:8080/",
          "height": 1000
        },
        "outputId": "4b630fd6-1192-4481-9daa-97a4dc67f3ce"
      },
      "source": [
        "train_loss, validation_loss = run(cpc_model,phone_classifier,loss_criterion,data_loader_train,data_loader_val,optimizer_frozen,n_epoch=30)"
      ],
      "execution_count": 34,
      "outputs": [
        {
          "output_type": "stream",
          "text": [
            "Running epoch 1 / 30\n",
            "-------------------\n",
            "Training dataset :\n",
            "Average loss : 3.7681499889918735. Average accuracy 0.06696428571428571\n",
            "-------------------\n",
            "Validation dataset\n",
            "Average loss : 3.7258415487077503. Average accuracy 0.0849609375\n",
            "-------------------\n",
            "\n",
            "Running epoch 2 / 30\n",
            "-------------------\n",
            "Training dataset :\n",
            "Average loss : 3.6620839209783647. Average accuracy 0.08170572916666667\n",
            "-------------------\n",
            "Validation dataset\n",
            "Average loss : 3.632444381713867. Average accuracy 0.09212239583333333\n",
            "-------------------\n",
            "\n",
            "Running epoch 3 / 30\n",
            "-------------------\n",
            "Training dataset :\n",
            "Average loss : 3.5741959526425315. Average accuracy 0.0859375\n",
            "-------------------\n",
            "Validation dataset\n",
            "Average loss : 3.556492222679986. Average accuracy 0.09418402777777778\n",
            "-------------------\n",
            "\n",
            "Running epoch 4 / 30\n",
            "-------------------\n",
            "Training dataset :\n",
            "Average loss : 3.494688113530477. Average accuracy 0.08942522321428571\n",
            "-------------------\n",
            "Validation dataset\n",
            "Average loss : 3.487292077806261. Average accuracy 0.0935329861111111\n",
            "-------------------\n",
            "\n",
            "Running epoch 5 / 30\n",
            "-------------------\n",
            "Training dataset :\n",
            "Average loss : 3.4296868301573253. Average accuracy 0.08961123511904762\n",
            "-------------------\n",
            "Validation dataset\n",
            "Average loss : 3.4281423886617026. Average accuracy 0.09440104166666667\n",
            "-------------------\n",
            "\n",
            "Running epoch 6 / 30\n",
            "-------------------\n",
            "Training dataset :\n",
            "Average loss : 3.374995220275152. Average accuracy 0.08826264880952381\n",
            "-------------------\n",
            "Validation dataset\n",
            "Average loss : 3.3803028795454235. Average accuracy 0.0945095486111111\n",
            "-------------------\n",
            "\n",
            "Running epoch 7 / 30\n",
            "-------------------\n",
            "Training dataset :\n",
            "Average loss : 3.3295210883730935. Average accuracy 0.09049479166666667\n",
            "-------------------\n",
            "Validation dataset\n",
            "Average loss : 3.33183577325609. Average accuracy 0.09993489583333333\n",
            "-------------------\n",
            "\n",
            "Running epoch 8 / 30\n",
            "-------------------\n",
            "Training dataset :\n",
            "Average loss : 3.2888109116327193. Average accuracy 0.09077380952380952\n",
            "-------------------\n",
            "Validation dataset\n",
            "Average loss : 3.2947790887620716. Average accuracy 0.1013454861111111\n",
            "-------------------\n",
            "\n",
            "Running epoch 9 / 30\n",
            "-------------------\n",
            "Training dataset :\n",
            "Average loss : 3.2537706125350225. Average accuracy 0.09319196428571429\n",
            "-------------------\n",
            "Validation dataset\n",
            "Average loss : 3.263374990887112. Average accuracy 0.0978732638888889\n",
            "-------------------\n",
            "\n",
            "Running epoch 10 / 30\n",
            "-------------------\n",
            "Training dataset :\n",
            "Average loss : 3.2225148791358587. Average accuracy 0.09351748511904762\n",
            "-------------------\n",
            "Validation dataset\n",
            "Average loss : 3.2354725731743708. Average accuracy 0.1008029513888889\n",
            "-------------------\n",
            "\n",
            "Running epoch 11 / 30\n",
            "-------------------\n",
            "Training dataset :\n",
            "Average loss : 3.2037502016339983. Average accuracy 0.09602864583333333\n",
            "-------------------\n",
            "Validation dataset\n",
            "Average loss : 3.2159703837500677. Average accuracy 0.10362413194444445\n",
            "-------------------\n",
            "\n",
            "Running epoch 12 / 30\n",
            "-------------------\n",
            "Training dataset :\n",
            "Average loss : 3.1779106117430187. Average accuracy 0.10109747023809523\n",
            "-------------------\n",
            "Validation dataset\n",
            "Average loss : 3.192129267586602. Average accuracy 0.10221354166666667\n",
            "-------------------\n",
            "\n",
            "Running epoch 13 / 30\n",
            "-------------------\n",
            "Training dataset :\n",
            "Average loss : 3.160218148004441. Average accuracy 0.09816778273809523\n",
            "-------------------\n",
            "Validation dataset\n",
            "Average loss : 3.172573963801066. Average accuracy 0.10362413194444445\n",
            "-------------------\n",
            "\n",
            "Running epoch 14 / 30\n",
            "-------------------\n",
            "Training dataset :\n",
            "Average loss : 3.1444907869611467. Average accuracy 0.10346912202380952\n",
            "-------------------\n",
            "Validation dataset\n",
            "Average loss : 3.159824106428358. Average accuracy 0.10286458333333333\n",
            "-------------------\n",
            "\n",
            "Running epoch 15 / 30\n",
            "-------------------\n",
            "Training dataset :\n",
            "Average loss : 3.1339338620503745. Average accuracy 0.10770089285714286\n",
            "-------------------\n",
            "Validation dataset\n",
            "Average loss : 3.141179402669271. Average accuracy 0.1062282986111111\n",
            "-------------------\n",
            "\n",
            "Running epoch 16 / 30\n",
            "-------------------\n",
            "Training dataset :\n",
            "Average loss : 3.1177151203155518. Average accuracy 0.11156063988095238\n",
            "-------------------\n",
            "Validation dataset\n",
            "Average loss : 3.132258971532186. Average accuracy 0.10731336805555555\n",
            "-------------------\n",
            "\n",
            "Running epoch 17 / 30\n",
            "-------------------\n",
            "Training dataset :\n",
            "Average loss : 3.1133950664883567. Average accuracy 0.11049107142857142\n",
            "-------------------\n",
            "Validation dataset\n",
            "Average loss : 3.1182994312710233. Average accuracy 0.10536024305555555\n",
            "-------------------\n",
            "\n",
            "Running epoch 18 / 30\n",
            "-------------------\n",
            "Training dataset :\n",
            "Average loss : 3.1034040337517146. Average accuracy 0.10835193452380952\n",
            "-------------------\n",
            "Validation dataset\n",
            "Average loss : 3.1062730153401694. Average accuracy 0.10828993055555555\n",
            "-------------------\n",
            "\n",
            "Running epoch 19 / 30\n",
            "-------------------\n",
            "Training dataset :\n",
            "Average loss : 3.0930662268684026. Average accuracy 0.11104910714285714\n",
            "-------------------\n",
            "Validation dataset\n",
            "Average loss : 3.098136213090685. Average accuracy 0.1081814236111111\n",
            "-------------------\n",
            "\n",
            "Running epoch 20 / 30\n",
            "-------------------\n",
            "Training dataset :\n",
            "Average loss : 3.0868494624183294. Average accuracy 0.11118861607142858\n",
            "-------------------\n",
            "Validation dataset\n",
            "Average loss : 3.0855030483669705. Average accuracy 0.10894097222222222\n",
            "-------------------\n",
            "\n",
            "Running epoch 21 / 30\n",
            "-------------------\n",
            "Training dataset :\n",
            "Average loss : 3.0764096123831615. Average accuracy 0.11453683035714286\n",
            "-------------------\n",
            "Validation dataset\n",
            "Average loss : 3.080750438902113. Average accuracy 0.10904947916666667\n",
            "-------------------\n",
            "\n",
            "Running epoch 22 / 30\n",
            "-------------------\n",
            "Training dataset :\n",
            "Average loss : 3.0756177561623708. Average accuracy 0.11416480654761904\n",
            "-------------------\n",
            "Validation dataset\n",
            "Average loss : 3.073254691229926. Average accuracy 0.1091579861111111\n",
            "-------------------\n",
            "\n",
            "Running epoch 23 / 30\n",
            "-------------------\n",
            "Training dataset :\n",
            "Average loss : 3.0646457899184454. Average accuracy 0.11290922619047619\n",
            "-------------------\n",
            "Validation dataset\n",
            "Average loss : 3.064496013853285. Average accuracy 0.10926649305555555\n",
            "-------------------\n",
            "\n",
            "Running epoch 24 / 30\n",
            "-------------------\n",
            "Training dataset :\n",
            "Average loss : 3.0667751403081986. Average accuracy 0.11342075892857142\n",
            "-------------------\n",
            "Validation dataset\n",
            "Average loss : 3.0644867155287. Average accuracy 0.10687934027777778\n",
            "-------------------\n",
            "\n",
            "Running epoch 25 / 30\n",
            "-------------------\n",
            "Training dataset :\n",
            "Average loss : 3.060220105307443. Average accuracy 0.11588541666666667\n",
            "-------------------\n",
            "Validation dataset\n",
            "Average loss : 3.0608844492170544. Average accuracy 0.1076388888888889\n",
            "-------------------\n",
            "\n",
            "Running epoch 26 / 30\n",
            "-------------------\n",
            "Training dataset :\n",
            "Average loss : 3.0512908072698686. Average accuracy 0.11472284226190477\n",
            "-------------------\n",
            "Validation dataset\n",
            "Average loss : 3.052634186214871. Average accuracy 0.1086154513888889\n",
            "-------------------\n",
            "\n",
            "Running epoch 27 / 30\n",
            "-------------------\n",
            "Training dataset :\n",
            "Average loss : 3.0498384407588413. Average accuracy 0.11500186011904762\n",
            "-------------------\n",
            "Validation dataset\n",
            "Average loss : 3.0474205811818442. Average accuracy 0.1091579861111111\n",
            "-------------------\n",
            "\n",
            "Running epoch 28 / 30\n",
            "-------------------\n",
            "Training dataset :\n",
            "Average loss : 3.0543470836821056. Average accuracy 0.11276971726190477\n",
            "-------------------\n",
            "Validation dataset\n",
            "Average loss : 3.044930855433146. Average accuracy 0.1076388888888889\n",
            "-------------------\n",
            "\n",
            "Running epoch 29 / 30\n",
            "-------------------\n",
            "Training dataset :\n",
            "Average loss : 3.047534181958153. Average accuracy 0.11528087797619048\n",
            "-------------------\n",
            "Validation dataset\n",
            "Average loss : 3.040768623352051. Average accuracy 0.10850694444444445\n",
            "-------------------\n",
            "\n",
            "Running epoch 30 / 30\n",
            "-------------------\n",
            "Training dataset :\n",
            "Average loss : 3.0469798019954135. Average accuracy 0.11439732142857142\n",
            "-------------------\n",
            "Validation dataset\n",
            "Average loss : 3.038403617011176. Average accuracy 0.1076388888888889\n",
            "-------------------\n",
            "\n"
          ],
          "name": "stdout"
        }
      ]
    },
    {
      "cell_type": "code",
      "metadata": {
        "id": "Zs1LvMqtV7g_",
        "colab_type": "code",
        "colab": {
          "base_uri": "https://localhost:8080/",
          "height": 430
        },
        "outputId": "05312f91-3642-4997-aeae-050629080df6"
      },
      "source": [
        "import matplotlib.pyplot as plt\n",
        "\n",
        "plt.figure(figsize=(10, 7))\n",
        "\n",
        "plt.plot(train_loss, label='Train loss')\n",
        "plt.plot(validation_loss, label='Validation loss')\n",
        "plt.legend()\n",
        "plt.show()"
      ],
      "execution_count": 35,
      "outputs": [
        {
          "output_type": "display_data",
          "data": {
            "image/png": "[encoded data removed]",
            "text/plain": [
              "<Figure size 720x504 with 1 Axes>"
            ]
          },
          "metadata": {
            "tags": [],
            "needs_background": "light"
          }
        }
      ]
    },
    {
      "cell_type": "markdown",
      "metadata": {
        "colab_type": "text",
        "id": "TdfWDiFnylMT"
      },
      "source": [
        "## Exercise 2 : Phone separability without alignment (PER)\n",
        "\n",
        "Aligned data are very practical, but un real life they are rarely available. That's why in this excercise we will consider a fine-tuning with non-aligned phonemes.\n",
        "\n",
        "The model, the optimizer and the phone classifier will stay the same. However, we will replace our phone criterion with a [CTC loss](https://pytorch.org/docs/master/generated/torch.nn.CTCLoss.html). "
      ]
    },
    {
      "cell_type": "code",
      "metadata": {
        "colab_type": "code",
        "id": "_9BpM_Lpzgx8",
        "colab": {}
      },
      "source": [
        "loss_ctc = torch.nn.CTCLoss()"
      ],
      "execution_count": 36,
      "outputs": []
    },
    {
      "cell_type": "code",
      "metadata": {
        "id": "zlxoqQV9W0Cb",
        "colab_type": "code",
        "colab": {}
      },
      "source": [
        "# import os \n",
        "# os.remove('/content/drive/My Drive/Data-ASR/Prepared DATA/test/200630-210437_gaa_980_elicit/200630-210437_gaa_980_elicit_71 (1).wav')"
      ],
      "execution_count": 52,
      "outputs": []
    },
    {
      "cell_type": "code",
      "metadata": {
        "colab_type": "code",
        "id": "Zsgjv3cD0oqD",
        "colab": {}
      },
      "source": [
        "import torch.nn.functional as F\n",
        "\n",
        "def train_one_epoch_ctc(cpc_model, \n",
        "                        phone_classifier, \n",
        "                        loss_criterion, \n",
        "                        data_loader, \n",
        "                        optimizer):\n",
        "  \n",
        "  cpc_model.train()\n",
        "  loss_criterion.train()\n",
        "\n",
        "  avg_loss = 0\n",
        "  avg_accuracy = 0\n",
        "  n_items = 0\n",
        "  for step, full_data in enumerate(data_loader):\n",
        "\n",
        "    x, x_len, y, y_len = full_data\n",
        "\n",
        "    x_batch_len = x.shape[-1]\n",
        "    x, y = x.to(device), y.to(device)\n",
        "\n",
        "    bs=x.size(0)\n",
        "    optimizer.zero_grad()\n",
        "    context_out, enc_out, _ = cpc_model(x.to(device),y.to(device))\n",
        "  \n",
        "    scores = phone_classifier(context_out)\n",
        "    scores = scores.permute(1,0,2)\n",
        "    scores = F.log_softmax(scores,2)\n",
        "    yhat_len = torch.tensor([int(scores.shape[0]*x_len[i]/x_batch_len) for i in range(scores.shape[1])]) # this is an approximation, should be good enough\n",
        "\n",
        "    loss = loss_criterion(scores,y.to(device),yhat_len,y_len)\n",
        "    loss.backward()\n",
        "    optimizer.step()\n",
        "    avg_loss+=loss.item()*bs\n",
        "    n_items+=bs\n",
        "  avg_loss/=n_items\n",
        "  return avg_loss\n",
        "\n",
        "def validation_step(cpc_model, \n",
        "                    phone_classifier, \n",
        "                    loss_criterion, \n",
        "                    data_loader):\n",
        "\n",
        "  cpc_model.eval()\n",
        "  phone_classifier.eval()\n",
        "  avg_loss = 0\n",
        "  avg_accuracy = 0\n",
        "  n_items = 0\n",
        "  with torch.no_grad():\n",
        "    for step, full_data in enumerate(data_loader):\n",
        "\n",
        "      x, x_len, y, y_len = full_data\n",
        "\n",
        "      x_batch_len = x.shape[-1]\n",
        "      x, y = x.to(device), y.to(device)\n",
        "\n",
        "      bs=x.size(0)\n",
        "      context_out, enc_out, _ = cpc_model(x.to(device),y.to(device))\n",
        "    \n",
        "      scores = phone_classifier(context_out)\n",
        "      scores = scores.permute(1,0,2)\n",
        "      scores = F.log_softmax(scores,2)\n",
        "      yhat_len = torch.tensor([int(scores.shape[0]*x_len[i]/x_batch_len) for i in range(scores.shape[1])]) # this is an approximation, should be good enough\n",
        "\n",
        "      loss = loss_criterion(scores,y.to(device),yhat_len,y_len)\n",
        "      avg_loss+=loss.item()*bs\n",
        "      n_items+=bs\n",
        "  avg_loss/=n_items\n",
        "\n",
        "  return avg_loss\n",
        "\n",
        "def run_ctc(cpc_model, \n",
        "            phone_classifier, \n",
        "            loss_criterion, \n",
        "            data_loader_train, \n",
        "            data_loader_val, \n",
        "            optimizer,\n",
        "            n_epoch):\n",
        "    train_loss = []\n",
        "    validation_loss = []\n",
        "    for epoch in range(n_epoch):\n",
        "\n",
        "      print(f\"Running epoch {epoch + 1} / {n_epoch}\")\n",
        "      loss_train = train_one_epoch_ctc(cpc_model, phone_classifier, loss_criterion, data_loader_train, optimizer)\n",
        "      train_loss.append(loss_train)\n",
        "      print(\"-------------------\")\n",
        "      print(f\"Training dataset :\")\n",
        "      print(f\"Average loss : {loss_train}.\")\n",
        "\n",
        "      print(\"-------------------\")\n",
        "      print(\"Validation dataset\")\n",
        "      loss_val = validation_step(cpc_model, phone_classifier, loss_criterion, data_loader_val)\n",
        "      validation_loss.append(loss_val)\n",
        "      print(f\"Average loss : {loss_val}\")\n",
        "      print(\"-------------------\")\n",
        "      print()\n",
        "    return train_loss, validation_loss"
      ],
      "execution_count": 67,
      "outputs": []
    },
    {
      "cell_type": "markdown",
      "metadata": {
        "colab_type": "text",
        "id": "TKrYW4gK1BBF"
      },
      "source": [
        "### b- Evaluation: the Phone Error Rate (PER)\n",
        "\n",
        "In order to compute the similarity between two sequences, we can use the [Levenshtein distance](https://en.wikipedia.org/wiki/Levenshtein_distance). This distance estimates the minimum number of insertion, deletion and addition to move from one sequence to another. If we normalize this distance by the number of characters in the reference sequence we get the Phone Error Rate (PER).\n",
        "\n",
        "This value can be interpreted as :\n",
        "\\\\[  PER = \\frac{S + D + I}{N} \\\\]\n",
        "\n",
        "Where:\n",
        "\n",
        "\n",
        "*   N is the number of characters in the reference\n",
        "*   S is the number of substitutiion\n",
        "*   I in the number of insertion\n",
        "*   D in the number of deletion\n",
        "\n",
        "For the best possible alignment of the two sequences.\n",
        "\n"
      ]
    },
    {
      "cell_type": "code",
      "metadata": {
        "colab_type": "code",
        "id": "RoBhsx7GNqI_",
        "colab": {}
      },
      "source": [
        "import numpy as np\n",
        "\n",
        "def get_PER_sequence(ref_seq, target_seq):\n",
        "\n",
        "  # re = g.split()\n",
        "  # h = h.split()\n",
        "  n = len(ref_seq)\n",
        "  m = len(target_seq)\n",
        "\n",
        "  D = np.zeros((n+1,m+1))\n",
        "  for i in range(1,n+1):\n",
        "    D[i,0] = D[i-1,0]+1\n",
        "  for j in range(1,m+1):\n",
        "    D[0,j] = D[0,j-1]+1\n",
        "  \n",
        "  ### TODO compute the alignment\n",
        "\n",
        "  for i in range(1,n+1):\n",
        "    for j in range(1,m+1):\n",
        "      D[i,j] = min(\n",
        "          D[i-1,j]+1,\n",
        "          D[i-1,j-1]+1,\n",
        "          D[i,j-1]+1,\n",
        "          D[i-1,j-1]+ 0 if ref_seq[i-1]==target_seq[j-1] else float(\"inf\")\n",
        "      )\n",
        "  return D[n,m]/len(ref_seq)\n",
        "  \n",
        "\n",
        "  #return PER"
      ],
      "execution_count": 59,
      "outputs": []
    },
    {
      "cell_type": "markdown",
      "metadata": {
        "colab_type": "text",
        "id": "r-hr0KK0mgcR"
      },
      "source": [
        "You can test your function below:"
      ]
    },
    {
      "cell_type": "code",
      "metadata": {
        "colab_type": "code",
        "id": "AfTb3yOQmvey",
        "colab": {
          "base_uri": "https://localhost:8080/",
          "height": 35
        },
        "outputId": "42f97934-59df-46cb-832f-0b5113b12c7d"
      },
      "source": [
        "ref_seq = [0, 1, 1, 2, 0, 2, 2]\n",
        "pred_seq = [1, 1, 2, 2, 0, 0]\n",
        "\n",
        "expected_PER = 4. / 7.\n",
        "print(get_PER_sequence(ref_seq, pred_seq) == expected_PER)"
      ],
      "execution_count": 60,
      "outputs": [
        {
          "output_type": "stream",
          "text": [
            "True\n"
          ],
          "name": "stdout"
        }
      ]
    },
    {
      "cell_type": "markdown",
      "metadata": {
        "colab_type": "text",
        "id": "nHiyChl-m_k7"
      },
      "source": [
        "## c- Evaluating the PER of your model on the test dataset\n",
        "\n",
        "Evaluate the PER on the validation dataset. Please notice that you should usually use a separate dataset, called the dev dataset, to perform this operation. However for the sake of simplicity we will work with validation data in this exercise."
      ]
    },
    {
      "cell_type": "code",
      "metadata": {
        "colab_type": "code",
        "id": "DMkX0PoFnclg",
        "colab": {}
      },
      "source": [
        "import progressbar\n",
        "from multiprocessing import Pool\n",
        "\n",
        "def cut_data(seq, sizeSeq):\n",
        "    maxSeq = sizeSeq.max()\n",
        "    return seq[:, :maxSeq]\n",
        "\n",
        "\n",
        "def prepare_data(data):\n",
        "    seq, sizeSeq, phone, sizePhone = data\n",
        "    seq = seq.cuda()\n",
        "    phone = phone.cuda()\n",
        "    sizeSeq = sizeSeq.cuda().view(-1)\n",
        "    sizePhone = sizePhone.cuda().view(-1)\n",
        "\n",
        "    seq = cut_data(seq.permute(0, 2, 1), sizeSeq).permute(0, 2, 1)\n",
        "    return seq, sizeSeq, phone, sizePhone\n",
        "\n",
        "\n",
        "def get_per(test_dataloader,\n",
        "            cpc_model,\n",
        "            phone_classifier):\n",
        "\n",
        "  downsampling_factor = 160\n",
        "  cpc_model.eval()\n",
        "  phone_classifier.eval()\n",
        "\n",
        "  avgPER = 0\n",
        "  nItems = 0 \n",
        "\n",
        "  print(\"Starting the PER computation through beam search\")\n",
        "  bar = progressbar.ProgressBar(maxval=len(test_dataloader))\n",
        "  bar.start()\n",
        "\n",
        "  for index, data in enumerate(test_dataloader):\n",
        "\n",
        "    bar.update(index)\n",
        "\n",
        "    with torch.no_grad():\n",
        "      \n",
        "        seq, sizeSeq, phone, sizePhone = prepare_data(data)\n",
        "        c_feature, _, _ = cpc_model(seq.to(device),phone.to(device))\n",
        "        sizeSeq = sizeSeq / downsampling_factor\n",
        "        predictions = torch.nn.functional.softmax(\n",
        "        phone_classifier(c_feature), dim=2).cpu()\n",
        "        phone = phone.cpu()\n",
        "        sizeSeq = sizeSeq.cpu()\n",
        "        sizePhone = sizePhone.cpu()\n",
        "\n",
        "        bs = c_feature.size(0)\n",
        "        data_per = [(predictions[b].argmax(1),  phone[b]) for b in range(bs)]\n",
        "        # data_per = [(predictions[b], sizeSeq[b], phone[b], sizePhone[b],\n",
        "        #               \"criterion.module.BLANK_LABEL\") for b in range(bs)]\n",
        "\n",
        "        with Pool(bs) as p:\n",
        "            poolData = p.starmap(get_PER_sequence, data_per)\n",
        "        avgPER += sum([x for x in poolData])\n",
        "        nItems += len(poolData)\n",
        "\n",
        "  bar.finish()\n",
        "\n",
        "  avgPER /= nItems\n",
        "\n",
        "  print(f\"Average PER {avgPER}\")\n",
        "  return avgPER\n"
      ],
      "execution_count": 61,
      "outputs": []
    },
    {
      "cell_type": "markdown",
      "metadata": {
        "colab_type": "text",
        "id": "p8e9D7g8159k"
      },
      "source": [
        "## Exercice 3 : Character error rate (CER) \n",
        "\n",
        "The Character Error Rate (CER) is an evaluation metric similar to the PER but with characters insterad of phonemes. Using the following data, run the functions you defined previously to estimate the CER of your model after fine-tuning."
      ]
    },
    {
      "cell_type": "code",
      "metadata": {
        "colab_type": "code",
        "id": "cXONmKQOuFSn",
        "colab": {
          "base_uri": "https://localhost:8080/",
          "height": 417
        },
        "outputId": "c53a99d6-c03b-411c-e9a6-7024fac8f052"
      },
      "source": [
        "# Load a dataset labelled with the letters of each sequence.\n",
        "%cd /content/CPC_audio\n",
        "from cpc.eval.common_voices_eval import SingleSequenceDataset, parseSeqLabels, findAllSeqs\n",
        "path_train_data_cer = '/content/drive/My Drive/Data-ASR/Prepared DATA/train'\n",
        "path_val_data_cer = '/content/drive/My Drive/Data-ASR/Prepared DATA/validation'\n",
        "path_test_data_cer = '/content/drive/My Drive/Data-ASR/Prepared DATA/test'\n",
        "\n",
        "path_letter_data_cer = '/content/drive/My Drive/Data-ASR/Prepared DATA/all_sessions1.txt'\n",
        "BATCH_SIZE=8\n",
        "\n",
        "letters_labels, N_LETTERS = parseSeqLabels(path_letter_data_cer)\n",
        "\n",
        "data_train_cer, _ = findAllSeqs(path_train_data_cer, extension='.wav')\n",
        "dataset_train_non_aligned = SingleSequenceDataset(path_train_data_cer, data_train_cer, letters_labels)\n",
        "\n",
        "\n",
        "data_val_cer, _ = findAllSeqs(path_val_data_cer, extension='.wav')\n",
        "dataset_val_non_aligned = SingleSequenceDataset(path_val_data_cer, data_val_cer, letters_labels)\n",
        "\n",
        "data_test_cer, _ = findAllSeqs(path_test_data_cer, extension='.wav')\n",
        "dataset_test_non_aligned = SingleSequenceDataset(path_test_data_cer, data_test_cer, letters_labels)\n",
        "\n",
        "\n",
        "\n",
        "\n",
        "# The data loader will generate a tuple of tensors data, labels for each batch\n",
        "# data : size N x T1 x 1 : the audio sequence\n",
        "# label : size N x T2 the sequence of letters corresponding to the audio data\n",
        "# IMPORTANT NOTE: just like the PER the CER is computed with non-aligned phone data.\n",
        "data_loader_train_letters = torch.utils.data.DataLoader(dataset_train_non_aligned, batch_size=BATCH_SIZE,\n",
        "                                                shuffle=True)\n",
        "data_loader_val_letters = torch.utils.data.DataLoader(dataset_val_non_aligned, batch_size=BATCH_SIZE,\n",
        "                                              shuffle=True)\n",
        "\n",
        "data_loader_test_letters = torch.utils.data.DataLoader(dataset_test_non_aligned, batch_size=BATCH_SIZE,\n",
        "                                              shuffle=True)"
      ],
      "execution_count": 63,
      "outputs": [
        {
          "output_type": "stream",
          "text": [
            "21it [00:00, 535.87it/s]"
          ],
          "name": "stderr"
        },
        {
          "output_type": "stream",
          "text": [
            "/content/CPC_audio\n",
            "Saved cache file at /content/drive/My Drive/Data-ASR/Prepared DATA/train/_seqs_cache.txt\n"
          ],
          "name": "stdout"
        },
        {
          "output_type": "stream",
          "text": [
            "\n",
            "8it [00:00, 343.10it/s]"
          ],
          "name": "stderr"
        },
        {
          "output_type": "stream",
          "text": [
            "Loaded 850 sequences in 4.75 seconds\n",
            "maxSizeSeq : 271161\n",
            "maxSizePhone : 82\n",
            "minSizePhone : 2\n",
            "Total size dataset 0.9157076041666666 hours\n",
            "Saved cache file at /content/drive/My Drive/Data-ASR/Prepared DATA/validation/_seqs_cache.txt\n"
          ],
          "name": "stdout"
        },
        {
          "output_type": "stream",
          "text": [
            "\n",
            "26it [00:00, 445.05it/s]"
          ],
          "name": "stderr"
        },
        {
          "output_type": "stream",
          "text": [
            "Loaded 379 sequences in 3.14 seconds\n",
            "maxSizeSeq : 127050\n",
            "maxSizePhone : 51\n",
            "minSizePhone : 7\n",
            "Total size dataset 0.32238421875 hours\n",
            "Saved cache file at /content/drive/My Drive/Data-ASR/Prepared DATA/test/_seqs_cache.txt\n"
          ],
          "name": "stdout"
        },
        {
          "output_type": "stream",
          "text": [
            "\n"
          ],
          "name": "stderr"
        },
        {
          "output_type": "stream",
          "text": [
            "Loaded 1402 sequences in 5.93 seconds\n",
            "maxSizeSeq : 104907\n",
            "maxSizePhone : 52\n",
            "minSizePhone : 4\n",
            "Total size dataset 1.04913359375 hours\n"
          ],
          "name": "stdout"
        }
      ]
    },
    {
      "cell_type": "code",
      "metadata": {
        "colab_type": "code",
        "id": "9h07zI2LjzAU",
        "colab": {
          "base_uri": "https://localhost:8080/",
          "height": 54
        },
        "outputId": "360f8888-482e-4259-964b-b566a5aa2485"
      },
      "source": [
        "from cpc.feature_loader import loadModel\n",
        "\n",
        "checkpoint_path = 'checkpoint_data/checkpoint_30.pt'\n",
        "cpc_model, HIDDEN_CONTEXT_MODEL, HIDDEN_ENCODER_MODEL = loadModel([checkpoint_path])\n",
        "cpc_model = cpc_model.cuda()\n",
        "character_classifier = PhoneClassifier(HIDDEN_CONTEXT_MODEL, N_LETTERS).to(device)"
      ],
      "execution_count": 64,
      "outputs": [
        {
          "output_type": "stream",
          "text": [
            "Loading checkpoint checkpoint_data/checkpoint_30.pt\n",
            "Loading the state dict at checkpoint_data/checkpoint_30.pt\n"
          ],
          "name": "stdout"
        }
      ]
    },
    {
      "cell_type": "code",
      "metadata": {
        "colab_type": "code",
        "id": "rHCNg1E7lW1L",
        "colab": {}
      },
      "source": [
        "parameters = list(character_classifier.parameters()) + list(cpc_model.parameters())\n",
        "LEARNING_RATE = 2e-4\n",
        "optimizer = torch.optim.Adam(parameters, lr=LEARNING_RATE)\n",
        "\n",
        "optimizer_frozen = torch.optim.Adam(list(character_classifier.parameters()), lr=LEARNING_RATE)"
      ],
      "execution_count": 65,
      "outputs": []
    },
    {
      "cell_type": "code",
      "metadata": {
        "colab_type": "code",
        "id": "engpkljbk9hj",
        "colab": {}
      },
      "source": [
        "loss_ctc = torch.nn.CTCLoss()"
      ],
      "execution_count": 66,
      "outputs": []
    },
    {
      "cell_type": "code",
      "metadata": {
        "colab_type": "code",
        "id": "9NBHd2s2kxld",
        "colab": {
          "base_uri": "https://localhost:8080/",
          "height": 1000
        },
        "outputId": "ac4007a0-b7e6-4b43-fa80-9f401d57c8e4"
      },
      "source": [
        "train_loss, validation_loss = run_ctc(cpc_model,character_classifier,loss_ctc,data_loader_train_letters,data_loader_val_letters,optimizer_frozen,n_epoch=30)"
      ],
      "execution_count": 68,
      "outputs": [
        {
          "output_type": "stream",
          "text": [
            "Running epoch 1 / 30\n",
            "-------------------\n",
            "Training dataset :\n",
            "Average loss : 51.99181506602868.\n",
            "-------------------\n",
            "Validation dataset\n",
            "Average loss : 33.61639267048508\n",
            "-------------------\n",
            "\n",
            "Running epoch 2 / 30\n",
            "-------------------\n",
            "Training dataset :\n",
            "Average loss : 38.14425280630518.\n",
            "-------------------\n",
            "Validation dataset\n",
            "Average loss : 24.50017843296919\n",
            "-------------------\n",
            "\n",
            "Running epoch 3 / 30\n",
            "-------------------\n",
            "Training dataset :\n",
            "Average loss : 26.99959486252568.\n",
            "-------------------\n",
            "Validation dataset\n",
            "Average loss : 17.481692490754305\n",
            "-------------------\n",
            "\n",
            "Running epoch 4 / 30\n",
            "-------------------\n",
            "Training dataset :\n",
            "Average loss : 18.977830891333987.\n",
            "-------------------\n",
            "Validation dataset\n",
            "Average loss : 12.734074466442936\n",
            "-------------------\n",
            "\n",
            "Running epoch 5 / 30\n",
            "-------------------\n",
            "Training dataset :\n",
            "Average loss : 14.799702425867986.\n",
            "-------------------\n",
            "Validation dataset\n",
            "Average loss : 10.576035423884315\n",
            "-------------------\n",
            "\n",
            "Running epoch 6 / 30\n",
            "-------------------\n",
            "Training dataset :\n",
            "Average loss : 12.750229834386962.\n",
            "-------------------\n",
            "Validation dataset\n",
            "Average loss : 9.537369753317858\n",
            "-------------------\n",
            "\n",
            "Running epoch 7 / 30\n",
            "-------------------\n",
            "Training dataset :\n",
            "Average loss : 11.547227860058715.\n",
            "-------------------\n",
            "Validation dataset\n",
            "Average loss : 8.95455545092386\n",
            "-------------------\n",
            "\n",
            "Running epoch 8 / 30\n",
            "-------------------\n",
            "Training dataset :\n",
            "Average loss : 10.754939556683471.\n",
            "-------------------\n",
            "Validation dataset\n",
            "Average loss : 8.62889841372374\n",
            "-------------------\n",
            "\n",
            "Running epoch 9 / 30\n",
            "-------------------\n",
            "Training dataset :\n",
            "Average loss : 10.14925394518777.\n",
            "-------------------\n",
            "Validation dataset\n",
            "Average loss : 8.409419430626762\n",
            "-------------------\n",
            "\n",
            "Running epoch 10 / 30\n",
            "-------------------\n",
            "Training dataset :\n",
            "Average loss : 9.684096901380272.\n",
            "-------------------\n",
            "Validation dataset\n",
            "Average loss : 8.236089746788066\n",
            "-------------------\n",
            "\n",
            "Running epoch 11 / 30\n",
            "-------------------\n",
            "Training dataset :\n",
            "Average loss : 9.30233344425161.\n",
            "-------------------\n",
            "Validation dataset\n",
            "Average loss : 8.124679313134894\n",
            "-------------------\n",
            "\n",
            "Running epoch 12 / 30\n",
            "-------------------\n",
            "Training dataset :\n",
            "Average loss : 8.99252656182917.\n",
            "-------------------\n",
            "Validation dataset\n",
            "Average loss : 8.01078041520699\n",
            "-------------------\n",
            "\n",
            "Running epoch 13 / 30\n",
            "-------------------\n",
            "Training dataset :\n",
            "Average loss : 8.742182067201613.\n",
            "-------------------\n",
            "Validation dataset\n",
            "Average loss : 7.93082462795197\n",
            "-------------------\n",
            "\n",
            "Running epoch 14 / 30\n",
            "-------------------\n",
            "Training dataset :\n",
            "Average loss : 8.522920775890912.\n",
            "-------------------\n",
            "Validation dataset\n",
            "Average loss : 7.853436883795198\n",
            "-------------------\n",
            "\n",
            "Running epoch 15 / 30\n",
            "-------------------\n",
            "Training dataset :\n",
            "Average loss : 8.326984004502583.\n",
            "-------------------\n",
            "Validation dataset\n",
            "Average loss : 7.770703552891969\n",
            "-------------------\n",
            "\n",
            "Running epoch 16 / 30\n",
            "-------------------\n",
            "Training dataset :\n",
            "Average loss : 8.140522831601164.\n",
            "-------------------\n",
            "Validation dataset\n",
            "Average loss : 7.676767800850843\n",
            "-------------------\n",
            "\n",
            "Running epoch 17 / 30\n",
            "-------------------\n",
            "Training dataset :\n",
            "Average loss : 7.888732674265077.\n",
            "-------------------\n",
            "Validation dataset\n",
            "Average loss : 7.460869753802264\n",
            "-------------------\n",
            "\n",
            "Running epoch 18 / 30\n",
            "-------------------\n",
            "Training dataset :\n",
            "Average loss : 7.3746364332902274.\n",
            "-------------------\n",
            "Validation dataset\n",
            "Average loss : 6.611905670670605\n",
            "-------------------\n",
            "\n",
            "Running epoch 19 / 30\n",
            "-------------------\n",
            "Training dataset :\n",
            "Average loss : 6.217111102262571.\n",
            "-------------------\n",
            "Validation dataset\n",
            "Average loss : 4.854718677581302\n",
            "-------------------\n",
            "\n",
            "Running epoch 20 / 30\n",
            "-------------------\n",
            "Training dataset :\n",
            "Average loss : 4.4586501003575405.\n",
            "-------------------\n",
            "Validation dataset\n",
            "Average loss : 3.3601862084928644\n",
            "-------------------\n",
            "\n",
            "Running epoch 21 / 30\n",
            "-------------------\n",
            "Training dataset :\n",
            "Average loss : 3.295902513924139.\n",
            "-------------------\n",
            "Validation dataset\n",
            "Average loss : 2.8572588774262284\n",
            "-------------------\n",
            "\n",
            "Running epoch 22 / 30\n",
            "-------------------\n",
            "Training dataset :\n",
            "Average loss : 2.8460639073514544.\n",
            "-------------------\n",
            "Validation dataset\n",
            "Average loss : 2.6619569321788807\n",
            "-------------------\n",
            "\n",
            "Running epoch 23 / 30\n",
            "-------------------\n",
            "Training dataset :\n",
            "Average loss : 2.6332612425194193.\n",
            "-------------------\n",
            "Validation dataset\n",
            "Average loss : 2.5600734337297064\n",
            "-------------------\n",
            "\n",
            "Running epoch 24 / 30\n",
            "-------------------\n",
            "Training dataset :\n",
            "Average loss : 2.509872640119986.\n",
            "-------------------\n",
            "Validation dataset\n",
            "Average loss : 2.4963345439345748\n",
            "-------------------\n",
            "\n",
            "Running epoch 25 / 30\n",
            "-------------------\n",
            "Training dataset :\n",
            "Average loss : 2.4269206259921807.\n",
            "-------------------\n",
            "Validation dataset\n",
            "Average loss : 2.451216150843908\n",
            "-------------------\n",
            "\n",
            "Running epoch 26 / 30\n",
            "-------------------\n",
            "Training dataset :\n",
            "Average loss : 2.366209588146322.\n",
            "-------------------\n",
            "Validation dataset\n",
            "Average loss : 2.4179283954479076\n",
            "-------------------\n",
            "\n",
            "Running epoch 27 / 30\n",
            "-------------------\n",
            "Training dataset :\n",
            "Average loss : 2.3179063704325538.\n",
            "-------------------\n",
            "Validation dataset\n",
            "Average loss : 2.3917014207789506\n",
            "-------------------\n",
            "\n",
            "Running epoch 28 / 30\n",
            "-------------------\n",
            "Training dataset :\n",
            "Average loss : 2.277366897383062.\n",
            "-------------------\n",
            "Validation dataset\n",
            "Average loss : 2.3711186943861544\n",
            "-------------------\n",
            "\n",
            "Running epoch 29 / 30\n",
            "-------------------\n",
            "Training dataset :\n",
            "Average loss : 2.242694558187424.\n",
            "-------------------\n",
            "Validation dataset\n",
            "Average loss : 2.3545368260176724\n",
            "-------------------\n",
            "\n",
            "Running epoch 30 / 30\n",
            "-------------------\n",
            "Training dataset :\n",
            "Average loss : 2.21196516382961.\n",
            "-------------------\n",
            "Validation dataset\n",
            "Average loss : 2.3397525605701266\n",
            "-------------------\n",
            "\n"
          ],
          "name": "stdout"
        }
      ]
    },
    {
      "cell_type": "code",
      "metadata": {
        "id": "uhiTC8C6fAG6",
        "colab_type": "code",
        "colab": {
          "base_uri": "https://localhost:8080/",
          "height": 428
        },
        "outputId": "546129f5-2882-4c57-eddd-697191af98c5"
      },
      "source": [
        "import matplotlib.pyplot as plt\n",
        "\n",
        "plt.figure(figsize=(10, 7))\n",
        "\n",
        "plt.plot(train_loss, label='Train loss')\n",
        "plt.plot(validation_loss, label='Validation loss')\n",
        "plt.legend()\n",
        "plt.show()"
      ],
      "execution_count": 69,
      "outputs": [
        {
          "output_type": "display_data",
          "data": {
            "image/png": "[encoded data removed]",
            "text/plain": [
              "<Figure size 720x504 with 1 Axes>"
            ]
          },
          "metadata": {
            "tags": [],
            "needs_background": "light"
          }
        }
      ]
    },
    {
      "cell_type": "code",
      "metadata": {
        "colab_type": "code",
        "id": "A8oxFr1jm17P",
        "colab": {
          "base_uri": "https://localhost:8080/",
          "height": 90
        },
        "outputId": "18bde75c-0739-4655-e846-93048d6a88fd"
      },
      "source": [
        "get_per(data_loader_val_letters, cpc_model, character_classifier)"
      ],
      "execution_count": 70,
      "outputs": [
        {
          "output_type": "stream",
          "text": [
            "\r                                                                               \r\rN/A% (0 of 48) |                         | Elapsed Time: 0:00:00 ETA:  --:--:--"
          ],
          "name": "stderr"
        },
        {
          "output_type": "stream",
          "text": [
            "Starting the PER computation through beam search\n"
          ],
          "name": "stdout"
        },
        {
          "output_type": "stream",
          "text": [
            "100% (48 of 48) |########################| Elapsed Time: 0:02:25 Time:  0:02:25\n"
          ],
          "name": "stderr"
        },
        {
          "output_type": "stream",
          "text": [
            "Average PER 0.9390852335675514\n"
          ],
          "name": "stdout"
        },
        {
          "output_type": "execute_result",
          "data": {
            "text/plain": [
              "0.9390852335675514"
            ]
          },
          "metadata": {
            "tags": []
          },
          "execution_count": 70
        }
      ]
    },
    {
      "cell_type": "code",
      "metadata": {
        "id": "6qwePM3BspNs",
        "colab_type": "code",
        "colab": {
          "base_uri": "https://localhost:8080/",
          "height": 90
        },
        "outputId": "f4691329-1fb3-48d3-8e8d-72e8a5bf5773"
      },
      "source": [
        "get_per(data_loader_test_letters, cpc_model, character_classifier)"
      ],
      "execution_count": 71,
      "outputs": [
        {
          "output_type": "stream",
          "text": [
            "\r                                                                               \r\rN/A% (0 of 176) |                        | Elapsed Time: 0:00:00 ETA:  --:--:--"
          ],
          "name": "stderr"
        },
        {
          "output_type": "stream",
          "text": [
            "Starting the PER computation through beam search\n"
          ],
          "name": "stdout"
        },
        {
          "output_type": "stream",
          "text": [
            "100% (176 of 176) |######################| Elapsed Time: 0:08:15 Time:  0:08:15\n"
          ],
          "name": "stderr"
        },
        {
          "output_type": "stream",
          "text": [
            "Average PER 0.9211196840614456\n"
          ],
          "name": "stdout"
        },
        {
          "output_type": "execute_result",
          "data": {
            "text/plain": [
              "0.9211196840614456"
            ]
          },
          "metadata": {
            "tags": []
          },
          "execution_count": 71
        }
      ]
    },
    {
      "cell_type": "code",
      "metadata": {
        "id": "vIKqEC22ud6I",
        "colab_type": "code",
        "colab": {}
      },
      "source": [
        ""
      ],
      "execution_count": null,
      "outputs": []
    }
  ]
}